{
  "cells": [
    {
      "cell_type": "code",
      "execution_count": 1,
      "metadata": {
        "colab": {
          "base_uri": "https://localhost:8080/"
        },
        "id": "0kQWobwgJUjn",
        "outputId": "8cf315b4-e579-48a3-c362-77958e1d04d6"
      },
      "outputs": [
        {
          "output_type": "stream",
          "name": "stdout",
          "text": [
            "Collecting galsim\n",
            "  Downloading GalSim-2.5.3-cp310-cp310-manylinux_2_17_x86_64.manylinux2014_x86_64.whl.metadata (10 kB)\n",
            "Requirement already satisfied: setuptools>=38 in /usr/local/lib/python3.10/dist-packages (from galsim) (71.0.4)\n",
            "Collecting pybind11>=2.2 (from galsim)\n",
            "  Downloading pybind11-2.13.1-py3-none-any.whl.metadata (9.5 kB)\n",
            "Requirement already satisfied: numpy>=1.17 in /usr/local/lib/python3.10/dist-packages (from galsim) (1.26.4)\n",
            "Requirement already satisfied: astropy in /usr/local/lib/python3.10/dist-packages (from galsim) (6.1.2)\n",
            "Collecting LSSTDESC.Coord (from galsim)\n",
            "  Downloading LSSTDESC.Coord-1.3.0-py3-none-any.whl.metadata (3.3 kB)\n",
            "Requirement already satisfied: pyerfa>=2.0.1.1 in /usr/local/lib/python3.10/dist-packages (from astropy->galsim) (2.0.1.4)\n",
            "Requirement already satisfied: astropy-iers-data>=0.2024.7.1.0.34.3 in /usr/local/lib/python3.10/dist-packages (from astropy->galsim) (0.2024.7.22.0.34.13)\n",
            "Requirement already satisfied: PyYAML>=3.13 in /usr/local/lib/python3.10/dist-packages (from astropy->galsim) (6.0.1)\n",
            "Requirement already satisfied: packaging>=19.0 in /usr/local/lib/python3.10/dist-packages (from astropy->galsim) (24.1)\n",
            "Requirement already satisfied: future in /usr/local/lib/python3.10/dist-packages (from LSSTDESC.Coord->galsim) (1.0.0)\n",
            "Downloading GalSim-2.5.3-cp310-cp310-manylinux_2_17_x86_64.manylinux2014_x86_64.whl (46.4 MB)\n",
            "\u001b[2K   \u001b[90m━━━━━━━━━━━━━━━━━━━━━━━━━━━━━━━━━━━━━━━━\u001b[0m \u001b[32m46.4/46.4 MB\u001b[0m \u001b[31m19.8 MB/s\u001b[0m eta \u001b[36m0:00:00\u001b[0m\n",
            "\u001b[?25hDownloading pybind11-2.13.1-py3-none-any.whl (238 kB)\n",
            "\u001b[2K   \u001b[90m━━━━━━━━━━━━━━━━━━━━━━━━━━━━━━━━━━━━━━━━\u001b[0m \u001b[32m238.8/238.8 kB\u001b[0m \u001b[31m20.1 MB/s\u001b[0m eta \u001b[36m0:00:00\u001b[0m\n",
            "\u001b[?25hDownloading LSSTDESC.Coord-1.3.0-py3-none-any.whl (27 kB)\n",
            "Installing collected packages: pybind11, LSSTDESC.Coord, galsim\n",
            "Successfully installed LSSTDESC.Coord-1.3.0 galsim-2.5.3 pybind11-2.13.1\n"
          ]
        }
      ],
      "source": [
        "!pip install galsim\n",
        "\n",
        "import GalSimData as GSD\n",
        "import CMDN\n",
        "import TrainCMDNnewGPU as TCMDN\n",
        "\n",
        "import numpy as np\n",
        "import math\n",
        "import pickle\n",
        "import torch\n",
        "import seaborn as sns\n",
        "from sklearn.neighbors import kneighbors_graph\n",
        "from sklearn.metrics.pairwise import rbf_kernel\n",
        "from scipy.spatial.distance import pdist\n",
        "from scipy.stats import t\n",
        "from scipy.stats import norm\n",
        "import matplotlib.pyplot as plt\n",
        "import time\n",
        "import pandas as pd"
      ]
    },
    {
      "cell_type": "code",
      "execution_count": 2,
      "metadata": {
        "id": "0vHWThbmwckK"
      },
      "outputs": [],
      "source": [
        "import random\n",
        "\n",
        "def set_all_seeds(seed):\n",
        "  random.seed(seed)\n",
        "  np.random.seed(seed)\n",
        "  torch.manual_seed(seed)\n",
        "  torch.cuda.manual_seed(seed)\n",
        "  torch.backends.cudnn.deterministic = True"
      ]
    },
    {
      "cell_type": "code",
      "execution_count": 3,
      "metadata": {
        "id": "y_ztRH04Jj3Q"
      },
      "outputs": [],
      "source": [
        "def h_mat (X_data, Y_data):\n",
        "\n",
        "    gamma = np.median(np.abs(X_data - Y_data))**(-2)\n",
        "    kernel_XX = rbf_kernel(X_data,X_data, gamma = gamma)\n",
        "    kernel_YY = rbf_kernel(Y_data,Y_data, gamma = gamma)\n",
        "    kernel_XY = rbf_kernel(X_data,Y_data, gamma = gamma)\n",
        "    kernel_YX = rbf_kernel(Y_data,X_data, gamma = gamma)\n",
        "\n",
        "    return kernel_XX + kernel_YY - kernel_XY - kernel_YX\n",
        "\n",
        "def EMMD (knn_matrix, h_mat, n_data, k_n):\n",
        "\n",
        "    h_mat_knn = np.multiply(h_mat, knn_matrix)\n",
        "\n",
        "    emmd_val = np.sum(h_mat_knn)/np.sqrt(n_data * k_n)\n",
        "\n",
        "    return (emmd_val)\n",
        "\n",
        "def samp_var (knn_matrix, h_mat, n_data, k_n):\n",
        "\n",
        "    double_edge = ((knn_matrix + knn_matrix.T) == 2).astype(int)\n",
        "    h2_mat = np.square(h_mat)\n",
        "    h2_mat_term1 = np.multiply(h2_mat, knn_matrix)\n",
        "    h2_mat_term2 = np.multiply(h2_mat, double_edge)\n",
        "    S_squared = (np.sum(h2_mat_term1) + np.sum(h2_mat_term2))/(n_data * k_n)\n",
        "\n",
        "    return np.sqrt(S_squared)\n",
        "\n",
        "def emmd_test_stat (knn_matrix, X_data, Y_data, n_data, k_n):\n",
        "\n",
        "    H_mat = h_mat(X_data, Y_data)\n",
        "    emmd_val = EMMD(knn_matrix, H_mat, n_data, k_n)\n",
        "    S_val = samp_var(knn_matrix, H_mat, n_data, k_n)\n",
        "    return np.absolute(emmd_val/S_val)"
      ]
    },
    {
      "cell_type": "code",
      "execution_count": 4,
      "metadata": {
        "id": "9DmJnwOqJqh_"
      },
      "outputs": [],
      "source": [
        "def sample_alpha_lambda(sample_size):\n",
        "\n",
        "    alpha_sample = np.random.uniform(-math.pi/2,math.pi/2, size=sample_size)\n",
        "    lambda_sample = np.random.uniform(-0.1,0.1, size=sample_size) + 0.75\n",
        "\n",
        "    return alpha_sample, lambda_sample\n",
        "\n",
        "def sample(pi, mu, sigma):\n",
        "        mixture = torch.normal(mu, sigma)\n",
        "        k = torch.multinomial(pi, 1, replacement=True).squeeze()\n",
        "        result = mixture[range(k.size(0)), k]\n",
        "        return result"
      ]
    },
    {
      "cell_type": "code",
      "execution_count": 5,
      "metadata": {
        "id": "h_6ZMB1AJzGa"
      },
      "outputs": [],
      "source": [
        "def z_sample (alpha_sample, lambda_sample,\\\n",
        "              mu1, mu2_1, mu2_2, sigma1 = 1, sigma2 = 0.25, alpha_cutoff = 0):\n",
        "  n_size = len(alpha_sample)\n",
        "  U_ind = np.random.binomial(n=1, p=0.5, size=n_size)\n",
        "  V_ind = np.random.binomial(n=1, p=0.5, size=n_size)\n",
        "  z_ind = np.random.binomial(n=1, p=0.5, size=n_size)\n",
        "  z = np.zeros(n_size)\n",
        "\n",
        "  for i in range(n_size):\n",
        "    if alpha_sample[i] > alpha_cutoff:\n",
        "      U = np.random.normal(mu1,sigma1,1)\n",
        "      V = np.random.normal(-mu1,sigma1,1)\n",
        "    else:\n",
        "      U = U_ind[i] * np.random.normal(mu2_1, sigma2, 1) + (1-U_ind[i]) * np.random.normal(mu2_2, sigma2, 1)\n",
        "      V = V_ind[i] * np.random.normal(-mu2_1, sigma2, 1) + (1-V_ind[i]) * np.random.normal(-mu2_2, sigma2, 1)\n",
        "\n",
        "    z[i] = z_ind[i] * U + (1-z_ind[i]) * V\n",
        "\n",
        "  return z"
      ]
    },
    {
      "cell_type": "code",
      "execution_count": 6,
      "metadata": {
        "id": "M0iOT5kD936N"
      },
      "outputs": [],
      "source": [
        "def train_model (n_train, mu1, mu2_1, mu2_2, alpha_cutoff,\\\n",
        "                 k = 2, downsampling = 20):\n",
        "\n",
        "  alpha_sample,lambda_sample = sample_alpha_lambda(n_train)\n",
        "  GSD.main(alpha_sample, lambda_sample, downsampling = downsampling)\n",
        "\n",
        "  with open(\"data.pkl\", 'rb') as handle:\n",
        "    data = pickle.load(handle)\n",
        "\n",
        "  z_train = z_sample(alpha_sample, lambda_sample, mu1 = mu1, mu2_1 = mu2_1,\\\n",
        "                     mu2_2 = mu2_2, alpha_cutoff = alpha_cutoff)\n",
        "\n",
        "  trained_model = TCMDN.main(data, z_train, n_train = n_train, k = k,\\\n",
        "                             width = 20, height = 20, epochs = 5000)\n",
        "\n",
        "  return (trained_model)"
      ]
    },
    {
      "cell_type": "code",
      "execution_count": 7,
      "metadata": {
        "id": "fUJ1Nl42J0-N"
      },
      "outputs": [],
      "source": [
        "def test_out (trained_model, n_test, k_knn,\\\n",
        "              mu1, mu2_1, mu2_2, sigma1 = 1, sigma2 = 0.25, alpha_cutoff = 0,\\\n",
        "              indicator_image = 0):\n",
        "\n",
        "  alpha_sample,lambda_sample = sample_alpha_lambda(n_test)\n",
        "  GSD.main(alpha_sample, lambda_sample, downsampling = 20)\n",
        "\n",
        "  with open(\"data.pkl\", 'rb') as handle:\n",
        "      data = pickle.load(handle)\n",
        "\n",
        "  out_test = TCMDN.test_model(trained_model, data, n_test)\n",
        "\n",
        "  Samples_test = sample(out_test[0], out_test[1], out_test[2])\n",
        "\n",
        "  galaxy_test = data['galaxies_generated']\n",
        "\n",
        "  gal2 = galaxy_test.reshape(n_test,-1)\n",
        "\n",
        "  gal_knn = kneighbors_graph(gal2, k_knn, include_self = False).toarray()\n",
        "\n",
        "  z_test = z_sample(alpha_sample, lambda_sample, mu1, mu2_1, mu2_2,\\\n",
        "                    alpha_cutoff = alpha_cutoff)\n",
        "  X = z_test.reshape(-1,1)\n",
        "  Y = np.array(Samples_test.cpu().detach().numpy().tolist()).reshape(-1,1)\n",
        "\n",
        "  if indicator_image == 0:\n",
        "\n",
        "    bins = np.linspace(-5, 5, 30)\n",
        "    plt.hist(X, bins, alpha=0.5, density = True)\n",
        "    plt.hist(Y, bins, alpha=0.5, density = True)\n",
        "    plt.show()\n",
        "\n",
        "  return emmd_test_stat(gal_knn, X, Y, n_test, k_knn)>norm.ppf(0.975)\n",
        "\n",
        "def test_power (trained_model, n_test, k_knn,\\\n",
        "                mu1, mu2_1, mu2_2, sigma1 = 1, sigma2 = 0.25, alpha_cutoff = 0,\\\n",
        "                n_rep = 100):\n",
        "\n",
        "  test_out_vec = np.zeros(n_rep)\n",
        "  for i in range(n_rep):\n",
        "    test_out_vec[i] = test_out(trained_model, n_test = n_test, k_knn = k_knn,\\\n",
        "                               mu1 = mu1, mu2_1 = mu2_1, mu2_2 = mu2_2,\\\n",
        "                               alpha_cutoff = alpha_cutoff,\\\n",
        "                               indicator_image = i)\n",
        "    print (i)\n",
        "\n",
        "  return (np.sum(test_out_vec)/n_rep)\n"
      ]
    },
    {
      "cell_type": "code",
      "execution_count": 8,
      "metadata": {
        "colab": {
          "base_uri": "https://localhost:8080/",
          "height": 35
        },
        "id": "mCZA_xgg-rXn",
        "outputId": "e119c706-e7a7-4a3b-bca4-c6135363e5e5"
      },
      "outputs": [
        {
          "output_type": "stream",
          "name": "stdout",
          "text": [
            "0.77 0.88 1.0\n"
          ]
        }
      ],
      "source": [
        "from IPython.display import display, clear_output\n",
        "\n",
        "n_train = 20000\n",
        "n_test1 = 1000; n_test2 = 2500\n",
        "mu1 = 2; mu2_1 = 3; mu2_2 = 0.5\n",
        "alpha_cutoff = [-math.pi/3, -math.pi/4, -math.pi/6, -math.pi/12, \\\n",
        "                0, math.pi/12, math.pi/6, math.pi/4, math.pi/3]\n",
        "\n",
        "# alpha_cutoff = [-math.pi/6]\n",
        "\n",
        "alpha_power11 = []; alpha_power12 = []; alpha_power21 = []\n",
        "alpha_power22 = []\n",
        "\n",
        "n_rep = 100\n",
        "k_knn1 = 50; k_knn2 = 100\n",
        "\n",
        "for i in range(len(alpha_cutoff)):\n",
        "\n",
        "  set_all_seeds(1)\n",
        "\n",
        "  trained_model = train_model(n_train = n_train, mu1 = mu1, mu2_1 = mu2_1,\\\n",
        "                              mu2_2 = mu2_2, alpha_cutoff = alpha_cutoff[i],\\\n",
        "                              k = 2)\n",
        "\n",
        "  alpha_test_power11 = test_power(trained_model = trained_model, n_test = n_test1,\\\n",
        "                                k_knn = k_knn1, mu1 = mu1, mu2_1 = mu2_1,\\\n",
        "                                mu2_2 = mu2_2, alpha_cutoff = alpha_cutoff[i],\\\n",
        "                                n_rep = n_rep)\n",
        "  print (alpha_test_power11)\n",
        "  alpha_test_power12 = test_power(trained_model = trained_model, n_test = n_test1,\\\n",
        "                                k_knn = k_knn2, mu1 = mu1, mu2_1 = mu2_1,\\\n",
        "                                mu2_2 = mu2_2, alpha_cutoff = alpha_cutoff[i],\\\n",
        "                                n_rep = n_rep)\n",
        "  print (alpha_test_power12)\n",
        "  alpha_test_power21 = test_power(trained_model = trained_model, n_test = n_test2,\\\n",
        "                                k_knn = k_knn1, mu1 = mu1, mu2_1 = mu2_1,\\\n",
        "                                mu2_2 = mu2_2, alpha_cutoff = alpha_cutoff[i],\\\n",
        "                                n_rep = n_rep)\n",
        "  print (alpha_test_power21)\n",
        "  # alpha_test_power22 = test_power(trained_model = trained_model, n_test = n_test2,\\\n",
        "  #                               k_knn = k_knn2, mu1 = mu1, mu2_1 = mu2_1,\\\n",
        "  #                               mu2_2 = mu2_2, alpha_cutoff = alpha_cutoff[i],\\\n",
        "  #                               n_rep = n_rep)\n",
        "  alpha_power11.append(alpha_test_power11)\n",
        "  alpha_power12.append(alpha_test_power12)\n",
        "  alpha_power21.append(alpha_test_power21)\n",
        "  # alpha_power22.append(alpha_test_power22)\n",
        "  clear_output(wait=True)\n",
        "  print (alpha_test_power11, alpha_test_power12, alpha_test_power21)\n",
        "\n",
        "alpha_df11 = pd.DataFrame(alpha_power11)\n",
        "alpha_df12 = pd.DataFrame(alpha_power12)\n",
        "alpha_df21 = pd.DataFrame(alpha_power21)\n",
        "# alpha_df22 = pd.DataFrame(alpha_power22)\n",
        "alpha_df11.to_csv('powermu2205_n1000_k50.csv', index=False)\n",
        "alpha_df12.to_csv('powermu2205_n1000_k100.csv', index=False)\n",
        "alpha_df21.to_csv('powermu2205_n2500_k50.csv', index=False)\n",
        "# alpha_df22.to_csv('powermu220_n2500_k100.csv', index=False)"
      ]
    },
    {
      "cell_type": "code",
      "source": [
        "from google.colab import files\n",
        "files.download('powermu2205_n1000_k50.csv')\n",
        "files.download('powermu2205_n1000_k100.csv')\n",
        "files.download('powermu2205_n2500_k50.csv')"
      ],
      "metadata": {
        "colab": {
          "base_uri": "https://localhost:8080/",
          "height": 17
        },
        "id": "nbd9BaaZoeDP",
        "outputId": "34f1386c-0179-4d1b-c932-892be9130cbd"
      },
      "execution_count": 9,
      "outputs": [
        {
          "output_type": "display_data",
          "data": {
            "text/plain": [
              "<IPython.core.display.Javascript object>"
            ],
            "application/javascript": [
              "\n",
              "    async function download(id, filename, size) {\n",
              "      if (!google.colab.kernel.accessAllowed) {\n",
              "        return;\n",
              "      }\n",
              "      const div = document.createElement('div');\n",
              "      const label = document.createElement('label');\n",
              "      label.textContent = `Downloading \"${filename}\": `;\n",
              "      div.appendChild(label);\n",
              "      const progress = document.createElement('progress');\n",
              "      progress.max = size;\n",
              "      div.appendChild(progress);\n",
              "      document.body.appendChild(div);\n",
              "\n",
              "      const buffers = [];\n",
              "      let downloaded = 0;\n",
              "\n",
              "      const channel = await google.colab.kernel.comms.open(id);\n",
              "      // Send a message to notify the kernel that we're ready.\n",
              "      channel.send({})\n",
              "\n",
              "      for await (const message of channel.messages) {\n",
              "        // Send a message to notify the kernel that we're ready.\n",
              "        channel.send({})\n",
              "        if (message.buffers) {\n",
              "          for (const buffer of message.buffers) {\n",
              "            buffers.push(buffer);\n",
              "            downloaded += buffer.byteLength;\n",
              "            progress.value = downloaded;\n",
              "          }\n",
              "        }\n",
              "      }\n",
              "      const blob = new Blob(buffers, {type: 'application/binary'});\n",
              "      const a = document.createElement('a');\n",
              "      a.href = window.URL.createObjectURL(blob);\n",
              "      a.download = filename;\n",
              "      div.appendChild(a);\n",
              "      a.click();\n",
              "      div.remove();\n",
              "    }\n",
              "  "
            ]
          },
          "metadata": {}
        },
        {
          "output_type": "display_data",
          "data": {
            "text/plain": [
              "<IPython.core.display.Javascript object>"
            ],
            "application/javascript": [
              "download(\"download_7fc7837f-2364-41aa-b15d-b454154add78\", \"powermu2205_n1000_k50.csv\", 47)"
            ]
          },
          "metadata": {}
        },
        {
          "output_type": "display_data",
          "data": {
            "text/plain": [
              "<IPython.core.display.Javascript object>"
            ],
            "application/javascript": [
              "\n",
              "    async function download(id, filename, size) {\n",
              "      if (!google.colab.kernel.accessAllowed) {\n",
              "        return;\n",
              "      }\n",
              "      const div = document.createElement('div');\n",
              "      const label = document.createElement('label');\n",
              "      label.textContent = `Downloading \"${filename}\": `;\n",
              "      div.appendChild(label);\n",
              "      const progress = document.createElement('progress');\n",
              "      progress.max = size;\n",
              "      div.appendChild(progress);\n",
              "      document.body.appendChild(div);\n",
              "\n",
              "      const buffers = [];\n",
              "      let downloaded = 0;\n",
              "\n",
              "      const channel = await google.colab.kernel.comms.open(id);\n",
              "      // Send a message to notify the kernel that we're ready.\n",
              "      channel.send({})\n",
              "\n",
              "      for await (const message of channel.messages) {\n",
              "        // Send a message to notify the kernel that we're ready.\n",
              "        channel.send({})\n",
              "        if (message.buffers) {\n",
              "          for (const buffer of message.buffers) {\n",
              "            buffers.push(buffer);\n",
              "            downloaded += buffer.byteLength;\n",
              "            progress.value = downloaded;\n",
              "          }\n",
              "        }\n",
              "      }\n",
              "      const blob = new Blob(buffers, {type: 'application/binary'});\n",
              "      const a = document.createElement('a');\n",
              "      a.href = window.URL.createObjectURL(blob);\n",
              "      a.download = filename;\n",
              "      div.appendChild(a);\n",
              "      a.click();\n",
              "      div.remove();\n",
              "    }\n",
              "  "
            ]
          },
          "metadata": {}
        },
        {
          "output_type": "display_data",
          "data": {
            "text/plain": [
              "<IPython.core.display.Javascript object>"
            ],
            "application/javascript": [
              "download(\"download_e30da9cb-c2a9-4cc2-a122-fff6547e9018\", \"powermu2205_n1000_k100.csv\", 47)"
            ]
          },
          "metadata": {}
        },
        {
          "output_type": "display_data",
          "data": {
            "text/plain": [
              "<IPython.core.display.Javascript object>"
            ],
            "application/javascript": [
              "\n",
              "    async function download(id, filename, size) {\n",
              "      if (!google.colab.kernel.accessAllowed) {\n",
              "        return;\n",
              "      }\n",
              "      const div = document.createElement('div');\n",
              "      const label = document.createElement('label');\n",
              "      label.textContent = `Downloading \"${filename}\": `;\n",
              "      div.appendChild(label);\n",
              "      const progress = document.createElement('progress');\n",
              "      progress.max = size;\n",
              "      div.appendChild(progress);\n",
              "      document.body.appendChild(div);\n",
              "\n",
              "      const buffers = [];\n",
              "      let downloaded = 0;\n",
              "\n",
              "      const channel = await google.colab.kernel.comms.open(id);\n",
              "      // Send a message to notify the kernel that we're ready.\n",
              "      channel.send({})\n",
              "\n",
              "      for await (const message of channel.messages) {\n",
              "        // Send a message to notify the kernel that we're ready.\n",
              "        channel.send({})\n",
              "        if (message.buffers) {\n",
              "          for (const buffer of message.buffers) {\n",
              "            buffers.push(buffer);\n",
              "            downloaded += buffer.byteLength;\n",
              "            progress.value = downloaded;\n",
              "          }\n",
              "        }\n",
              "      }\n",
              "      const blob = new Blob(buffers, {type: 'application/binary'});\n",
              "      const a = document.createElement('a');\n",
              "      a.href = window.URL.createObjectURL(blob);\n",
              "      a.download = filename;\n",
              "      div.appendChild(a);\n",
              "      a.click();\n",
              "      div.remove();\n",
              "    }\n",
              "  "
            ]
          },
          "metadata": {}
        },
        {
          "output_type": "display_data",
          "data": {
            "text/plain": [
              "<IPython.core.display.Javascript object>"
            ],
            "application/javascript": [
              "download(\"download_563f0955-6006-4bbf-b471-330f221d2f54\", \"powermu2205_n2500_k50.csv\", 45)"
            ]
          },
          "metadata": {}
        }
      ]
    }
  ],
  "metadata": {
    "accelerator": "GPU",
    "colab": {
      "gpuType": "T4",
      "provenance": []
    },
    "kernelspec": {
      "display_name": "Python 3",
      "name": "python3"
    },
    "language_info": {
      "name": "python"
    }
  },
  "nbformat": 4,
  "nbformat_minor": 0
}