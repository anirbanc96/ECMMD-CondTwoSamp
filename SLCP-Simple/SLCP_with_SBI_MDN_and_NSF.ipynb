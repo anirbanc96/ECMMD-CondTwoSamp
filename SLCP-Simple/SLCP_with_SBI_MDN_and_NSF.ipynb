{
  "nbformat": 4,
  "nbformat_minor": 0,
  "metadata": {
    "colab": {
      "provenance": [],
      "machine_shape": "hm",
      "gpuType": "T4"
    },
    "kernelspec": {
      "name": "python3",
      "display_name": "Python 3"
    },
    "language_info": {
      "name": "python"
    },
    "accelerator": "GPU",
    "widgets": {
      "application/vnd.jupyter.widget-state+json": {
        "5e68b7b224354807ae774429f04fa073": {
          "model_module": "@jupyter-widgets/controls",
          "model_name": "HBoxModel",
          "model_module_version": "1.5.0",
          "state": {
            "_dom_classes": [],
            "_model_module": "@jupyter-widgets/controls",
            "_model_module_version": "1.5.0",
            "_model_name": "HBoxModel",
            "_view_count": null,
            "_view_module": "@jupyter-widgets/controls",
            "_view_module_version": "1.5.0",
            "_view_name": "HBoxView",
            "box_style": "",
            "children": [
              "IPY_MODEL_0b62cd2bf2c64a40bf84aa04b4259600",
              "IPY_MODEL_0db248aebd83403eb6ac6753978b1b36",
              "IPY_MODEL_bdc19e1e115e47e59e5fdeedb6094887"
            ],
            "layout": "IPY_MODEL_359c63edad274bdea6600e84a15fcef7"
          }
        },
        "0b62cd2bf2c64a40bf84aa04b4259600": {
          "model_module": "@jupyter-widgets/controls",
          "model_name": "HTMLModel",
          "model_module_version": "1.5.0",
          "state": {
            "_dom_classes": [],
            "_model_module": "@jupyter-widgets/controls",
            "_model_module_version": "1.5.0",
            "_model_name": "HTMLModel",
            "_view_count": null,
            "_view_module": "@jupyter-widgets/controls",
            "_view_module_version": "1.5.0",
            "_view_name": "HTMLView",
            "description": "",
            "description_tooltip": null,
            "layout": "IPY_MODEL_de45cb028042431b8a46fc90f98fa81b",
            "placeholder": "​",
            "style": "IPY_MODEL_80c5ab9a632f44f8b4c12e7e2216b2f0",
            "value": "Running 100000 simulations.: 100%"
          }
        },
        "0db248aebd83403eb6ac6753978b1b36": {
          "model_module": "@jupyter-widgets/controls",
          "model_name": "FloatProgressModel",
          "model_module_version": "1.5.0",
          "state": {
            "_dom_classes": [],
            "_model_module": "@jupyter-widgets/controls",
            "_model_module_version": "1.5.0",
            "_model_name": "FloatProgressModel",
            "_view_count": null,
            "_view_module": "@jupyter-widgets/controls",
            "_view_module_version": "1.5.0",
            "_view_name": "ProgressView",
            "bar_style": "success",
            "description": "",
            "description_tooltip": null,
            "layout": "IPY_MODEL_7330b30f2e224631a19def96b40c007b",
            "max": 100000,
            "min": 0,
            "orientation": "horizontal",
            "style": "IPY_MODEL_92bfbf08a34e48f5a724268547c5e822",
            "value": 100000
          }
        },
        "bdc19e1e115e47e59e5fdeedb6094887": {
          "model_module": "@jupyter-widgets/controls",
          "model_name": "HTMLModel",
          "model_module_version": "1.5.0",
          "state": {
            "_dom_classes": [],
            "_model_module": "@jupyter-widgets/controls",
            "_model_module_version": "1.5.0",
            "_model_name": "HTMLModel",
            "_view_count": null,
            "_view_module": "@jupyter-widgets/controls",
            "_view_module_version": "1.5.0",
            "_view_name": "HTMLView",
            "description": "",
            "description_tooltip": null,
            "layout": "IPY_MODEL_e0135974162c4e5695b7ef7ae2eefb50",
            "placeholder": "​",
            "style": "IPY_MODEL_36e430cc48d04abba7abaf7d7ff35ed4",
            "value": " 100000/100000 [00:19&lt;00:00, 5209.57it/s]"
          }
        },
        "359c63edad274bdea6600e84a15fcef7": {
          "model_module": "@jupyter-widgets/base",
          "model_name": "LayoutModel",
          "model_module_version": "1.2.0",
          "state": {
            "_model_module": "@jupyter-widgets/base",
            "_model_module_version": "1.2.0",
            "_model_name": "LayoutModel",
            "_view_count": null,
            "_view_module": "@jupyter-widgets/base",
            "_view_module_version": "1.2.0",
            "_view_name": "LayoutView",
            "align_content": null,
            "align_items": null,
            "align_self": null,
            "border": null,
            "bottom": null,
            "display": null,
            "flex": null,
            "flex_flow": null,
            "grid_area": null,
            "grid_auto_columns": null,
            "grid_auto_flow": null,
            "grid_auto_rows": null,
            "grid_column": null,
            "grid_gap": null,
            "grid_row": null,
            "grid_template_areas": null,
            "grid_template_columns": null,
            "grid_template_rows": null,
            "height": null,
            "justify_content": null,
            "justify_items": null,
            "left": null,
            "margin": null,
            "max_height": null,
            "max_width": null,
            "min_height": null,
            "min_width": null,
            "object_fit": null,
            "object_position": null,
            "order": null,
            "overflow": null,
            "overflow_x": null,
            "overflow_y": null,
            "padding": null,
            "right": null,
            "top": null,
            "visibility": null,
            "width": null
          }
        },
        "de45cb028042431b8a46fc90f98fa81b": {
          "model_module": "@jupyter-widgets/base",
          "model_name": "LayoutModel",
          "model_module_version": "1.2.0",
          "state": {
            "_model_module": "@jupyter-widgets/base",
            "_model_module_version": "1.2.0",
            "_model_name": "LayoutModel",
            "_view_count": null,
            "_view_module": "@jupyter-widgets/base",
            "_view_module_version": "1.2.0",
            "_view_name": "LayoutView",
            "align_content": null,
            "align_items": null,
            "align_self": null,
            "border": null,
            "bottom": null,
            "display": null,
            "flex": null,
            "flex_flow": null,
            "grid_area": null,
            "grid_auto_columns": null,
            "grid_auto_flow": null,
            "grid_auto_rows": null,
            "grid_column": null,
            "grid_gap": null,
            "grid_row": null,
            "grid_template_areas": null,
            "grid_template_columns": null,
            "grid_template_rows": null,
            "height": null,
            "justify_content": null,
            "justify_items": null,
            "left": null,
            "margin": null,
            "max_height": null,
            "max_width": null,
            "min_height": null,
            "min_width": null,
            "object_fit": null,
            "object_position": null,
            "order": null,
            "overflow": null,
            "overflow_x": null,
            "overflow_y": null,
            "padding": null,
            "right": null,
            "top": null,
            "visibility": null,
            "width": null
          }
        },
        "80c5ab9a632f44f8b4c12e7e2216b2f0": {
          "model_module": "@jupyter-widgets/controls",
          "model_name": "DescriptionStyleModel",
          "model_module_version": "1.5.0",
          "state": {
            "_model_module": "@jupyter-widgets/controls",
            "_model_module_version": "1.5.0",
            "_model_name": "DescriptionStyleModel",
            "_view_count": null,
            "_view_module": "@jupyter-widgets/base",
            "_view_module_version": "1.2.0",
            "_view_name": "StyleView",
            "description_width": ""
          }
        },
        "7330b30f2e224631a19def96b40c007b": {
          "model_module": "@jupyter-widgets/base",
          "model_name": "LayoutModel",
          "model_module_version": "1.2.0",
          "state": {
            "_model_module": "@jupyter-widgets/base",
            "_model_module_version": "1.2.0",
            "_model_name": "LayoutModel",
            "_view_count": null,
            "_view_module": "@jupyter-widgets/base",
            "_view_module_version": "1.2.0",
            "_view_name": "LayoutView",
            "align_content": null,
            "align_items": null,
            "align_self": null,
            "border": null,
            "bottom": null,
            "display": null,
            "flex": null,
            "flex_flow": null,
            "grid_area": null,
            "grid_auto_columns": null,
            "grid_auto_flow": null,
            "grid_auto_rows": null,
            "grid_column": null,
            "grid_gap": null,
            "grid_row": null,
            "grid_template_areas": null,
            "grid_template_columns": null,
            "grid_template_rows": null,
            "height": null,
            "justify_content": null,
            "justify_items": null,
            "left": null,
            "margin": null,
            "max_height": null,
            "max_width": null,
            "min_height": null,
            "min_width": null,
            "object_fit": null,
            "object_position": null,
            "order": null,
            "overflow": null,
            "overflow_x": null,
            "overflow_y": null,
            "padding": null,
            "right": null,
            "top": null,
            "visibility": null,
            "width": null
          }
        },
        "92bfbf08a34e48f5a724268547c5e822": {
          "model_module": "@jupyter-widgets/controls",
          "model_name": "ProgressStyleModel",
          "model_module_version": "1.5.0",
          "state": {
            "_model_module": "@jupyter-widgets/controls",
            "_model_module_version": "1.5.0",
            "_model_name": "ProgressStyleModel",
            "_view_count": null,
            "_view_module": "@jupyter-widgets/base",
            "_view_module_version": "1.2.0",
            "_view_name": "StyleView",
            "bar_color": null,
            "description_width": ""
          }
        },
        "e0135974162c4e5695b7ef7ae2eefb50": {
          "model_module": "@jupyter-widgets/base",
          "model_name": "LayoutModel",
          "model_module_version": "1.2.0",
          "state": {
            "_model_module": "@jupyter-widgets/base",
            "_model_module_version": "1.2.0",
            "_model_name": "LayoutModel",
            "_view_count": null,
            "_view_module": "@jupyter-widgets/base",
            "_view_module_version": "1.2.0",
            "_view_name": "LayoutView",
            "align_content": null,
            "align_items": null,
            "align_self": null,
            "border": null,
            "bottom": null,
            "display": null,
            "flex": null,
            "flex_flow": null,
            "grid_area": null,
            "grid_auto_columns": null,
            "grid_auto_flow": null,
            "grid_auto_rows": null,
            "grid_column": null,
            "grid_gap": null,
            "grid_row": null,
            "grid_template_areas": null,
            "grid_template_columns": null,
            "grid_template_rows": null,
            "height": null,
            "justify_content": null,
            "justify_items": null,
            "left": null,
            "margin": null,
            "max_height": null,
            "max_width": null,
            "min_height": null,
            "min_width": null,
            "object_fit": null,
            "object_position": null,
            "order": null,
            "overflow": null,
            "overflow_x": null,
            "overflow_y": null,
            "padding": null,
            "right": null,
            "top": null,
            "visibility": null,
            "width": null
          }
        },
        "36e430cc48d04abba7abaf7d7ff35ed4": {
          "model_module": "@jupyter-widgets/controls",
          "model_name": "DescriptionStyleModel",
          "model_module_version": "1.5.0",
          "state": {
            "_model_module": "@jupyter-widgets/controls",
            "_model_module_version": "1.5.0",
            "_model_name": "DescriptionStyleModel",
            "_view_count": null,
            "_view_module": "@jupyter-widgets/base",
            "_view_module_version": "1.2.0",
            "_view_name": "StyleView",
            "description_width": ""
          }
        }
      }
    }
  },
  "cells": [
    {
      "cell_type": "code",
      "execution_count": 1,
      "metadata": {
        "id": "sCLUENM7RvmS",
        "colab": {
          "base_uri": "https://localhost:8080/"
        },
        "outputId": "8171519e-38a1-4aa2-dbeb-3daaacd4fb0a"
      },
      "outputs": [
        {
          "output_type": "stream",
          "name": "stdout",
          "text": [
            "Collecting sbi\n",
            "  Downloading sbi-0.22.0-py2.py3-none-any.whl (272 kB)\n",
            "\u001b[?25l     \u001b[90m━━━━━━━━━━━━━━━━━━━━━━━━━━━━━━━━━━━━━━━━\u001b[0m \u001b[32m0.0/272.3 kB\u001b[0m \u001b[31m?\u001b[0m eta \u001b[36m-:--:--\u001b[0m\r\u001b[2K     \u001b[91m━━━━━━━━━━━━━━━━━━\u001b[0m\u001b[90m╺\u001b[0m\u001b[90m━━━━━━━━━━━━━━━━━━━━━\u001b[0m \u001b[32m122.9/272.3 kB\u001b[0m \u001b[31m3.6 MB/s\u001b[0m eta \u001b[36m0:00:01\u001b[0m\r\u001b[2K     \u001b[90m━━━━━━━━━━━━━━━━━━━━━━━━━━━━━━━━━━━━━━━━\u001b[0m \u001b[32m272.3/272.3 kB\u001b[0m \u001b[31m4.9 MB/s\u001b[0m eta \u001b[36m0:00:00\u001b[0m\n",
            "\u001b[?25hRequirement already satisfied: arviz in /usr/local/lib/python3.10/dist-packages (from sbi) (0.15.1)\n",
            "Requirement already satisfied: joblib>=1.0.0 in /usr/local/lib/python3.10/dist-packages (from sbi) (1.4.2)\n",
            "Requirement already satisfied: matplotlib in /usr/local/lib/python3.10/dist-packages (from sbi) (3.7.1)\n",
            "Requirement already satisfied: numpy in /usr/local/lib/python3.10/dist-packages (from sbi) (1.25.2)\n",
            "Requirement already satisfied: pillow in /usr/local/lib/python3.10/dist-packages (from sbi) (9.4.0)\n",
            "Collecting pyknos>=0.15.1 (from sbi)\n",
            "  Downloading pyknos-0.15.2-py2.py3-none-any.whl (21 kB)\n",
            "Collecting pyro-ppl>=1.3.1 (from sbi)\n",
            "  Downloading pyro_ppl-1.9.1-py3-none-any.whl (755 kB)\n",
            "\u001b[2K     \u001b[90m━━━━━━━━━━━━━━━━━━━━━━━━━━━━━━━━━━━━━━━━\u001b[0m \u001b[32m756.0/756.0 kB\u001b[0m \u001b[31m27.8 MB/s\u001b[0m eta \u001b[36m0:00:00\u001b[0m\n",
            "\u001b[?25hRequirement already satisfied: scikit-learn in /usr/local/lib/python3.10/dist-packages (from sbi) (1.2.2)\n",
            "Requirement already satisfied: scipy in /usr/local/lib/python3.10/dist-packages (from sbi) (1.11.4)\n",
            "Requirement already satisfied: tensorboard in /usr/local/lib/python3.10/dist-packages (from sbi) (2.15.2)\n",
            "Requirement already satisfied: torch>=1.8.0 in /usr/local/lib/python3.10/dist-packages (from sbi) (2.3.0+cu121)\n",
            "Requirement already satisfied: tqdm in /usr/local/lib/python3.10/dist-packages (from sbi) (4.66.4)\n",
            "Collecting nflows==0.14 (from pyknos>=0.15.1->sbi)\n",
            "  Downloading nflows-0.14.tar.gz (45 kB)\n",
            "\u001b[2K     \u001b[90m━━━━━━━━━━━━━━━━━━━━━━━━━━━━━━━━━━━━━━━━\u001b[0m \u001b[32m45.8/45.8 kB\u001b[0m \u001b[31m6.2 MB/s\u001b[0m eta \u001b[36m0:00:00\u001b[0m\n",
            "\u001b[?25h  Preparing metadata (setup.py) ... \u001b[?25l\u001b[?25hdone\n",
            "Requirement already satisfied: opt-einsum>=2.3.2 in /usr/local/lib/python3.10/dist-packages (from pyro-ppl>=1.3.1->sbi) (3.3.0)\n",
            "Collecting pyro-api>=0.1.1 (from pyro-ppl>=1.3.1->sbi)\n",
            "  Downloading pyro_api-0.1.2-py3-none-any.whl (11 kB)\n",
            "Requirement already satisfied: filelock in /usr/local/lib/python3.10/dist-packages (from torch>=1.8.0->sbi) (3.15.3)\n",
            "Requirement already satisfied: typing-extensions>=4.8.0 in /usr/local/lib/python3.10/dist-packages (from torch>=1.8.0->sbi) (4.12.2)\n",
            "Requirement already satisfied: sympy in /usr/local/lib/python3.10/dist-packages (from torch>=1.8.0->sbi) (1.12.1)\n",
            "Requirement already satisfied: networkx in /usr/local/lib/python3.10/dist-packages (from torch>=1.8.0->sbi) (3.3)\n",
            "Requirement already satisfied: jinja2 in /usr/local/lib/python3.10/dist-packages (from torch>=1.8.0->sbi) (3.1.4)\n",
            "Requirement already satisfied: fsspec in /usr/local/lib/python3.10/dist-packages (from torch>=1.8.0->sbi) (2023.6.0)\n",
            "Collecting nvidia-cuda-nvrtc-cu12==12.1.105 (from torch>=1.8.0->sbi)\n",
            "  Using cached nvidia_cuda_nvrtc_cu12-12.1.105-py3-none-manylinux1_x86_64.whl (23.7 MB)\n",
            "Collecting nvidia-cuda-runtime-cu12==12.1.105 (from torch>=1.8.0->sbi)\n",
            "  Using cached nvidia_cuda_runtime_cu12-12.1.105-py3-none-manylinux1_x86_64.whl (823 kB)\n",
            "Collecting nvidia-cuda-cupti-cu12==12.1.105 (from torch>=1.8.0->sbi)\n",
            "  Using cached nvidia_cuda_cupti_cu12-12.1.105-py3-none-manylinux1_x86_64.whl (14.1 MB)\n",
            "Collecting nvidia-cudnn-cu12==8.9.2.26 (from torch>=1.8.0->sbi)\n",
            "  Using cached nvidia_cudnn_cu12-8.9.2.26-py3-none-manylinux1_x86_64.whl (731.7 MB)\n",
            "Collecting nvidia-cublas-cu12==12.1.3.1 (from torch>=1.8.0->sbi)\n",
            "  Using cached nvidia_cublas_cu12-12.1.3.1-py3-none-manylinux1_x86_64.whl (410.6 MB)\n",
            "Collecting nvidia-cufft-cu12==11.0.2.54 (from torch>=1.8.0->sbi)\n",
            "  Using cached nvidia_cufft_cu12-11.0.2.54-py3-none-manylinux1_x86_64.whl (121.6 MB)\n",
            "Collecting nvidia-curand-cu12==10.3.2.106 (from torch>=1.8.0->sbi)\n",
            "  Using cached nvidia_curand_cu12-10.3.2.106-py3-none-manylinux1_x86_64.whl (56.5 MB)\n",
            "Collecting nvidia-cusolver-cu12==11.4.5.107 (from torch>=1.8.0->sbi)\n",
            "  Using cached nvidia_cusolver_cu12-11.4.5.107-py3-none-manylinux1_x86_64.whl (124.2 MB)\n",
            "Collecting nvidia-cusparse-cu12==12.1.0.106 (from torch>=1.8.0->sbi)\n",
            "  Using cached nvidia_cusparse_cu12-12.1.0.106-py3-none-manylinux1_x86_64.whl (196.0 MB)\n",
            "Collecting nvidia-nccl-cu12==2.20.5 (from torch>=1.8.0->sbi)\n",
            "  Using cached nvidia_nccl_cu12-2.20.5-py3-none-manylinux2014_x86_64.whl (176.2 MB)\n",
            "Collecting nvidia-nvtx-cu12==12.1.105 (from torch>=1.8.0->sbi)\n",
            "  Using cached nvidia_nvtx_cu12-12.1.105-py3-none-manylinux1_x86_64.whl (99 kB)\n",
            "Requirement already satisfied: triton==2.3.0 in /usr/local/lib/python3.10/dist-packages (from torch>=1.8.0->sbi) (2.3.0)\n",
            "Collecting nvidia-nvjitlink-cu12 (from nvidia-cusolver-cu12==11.4.5.107->torch>=1.8.0->sbi)\n",
            "  Downloading nvidia_nvjitlink_cu12-12.5.40-py3-none-manylinux2014_x86_64.whl (21.3 MB)\n",
            "\u001b[2K     \u001b[90m━━━━━━━━━━━━━━━━━━━━━━━━━━━━━━━━━━━━━━━━\u001b[0m \u001b[32m21.3/21.3 MB\u001b[0m \u001b[31m70.8 MB/s\u001b[0m eta \u001b[36m0:00:00\u001b[0m\n",
            "\u001b[?25hRequirement already satisfied: setuptools>=60.0.0 in /usr/local/lib/python3.10/dist-packages (from arviz->sbi) (67.7.2)\n",
            "Requirement already satisfied: packaging in /usr/local/lib/python3.10/dist-packages (from arviz->sbi) (24.1)\n",
            "Requirement already satisfied: pandas>=1.3.0 in /usr/local/lib/python3.10/dist-packages (from arviz->sbi) (2.0.3)\n",
            "Requirement already satisfied: xarray>=0.21.0 in /usr/local/lib/python3.10/dist-packages (from arviz->sbi) (2023.7.0)\n",
            "Requirement already satisfied: h5netcdf>=1.0.2 in /usr/local/lib/python3.10/dist-packages (from arviz->sbi) (1.3.0)\n",
            "Requirement already satisfied: xarray-einstats>=0.3 in /usr/local/lib/python3.10/dist-packages (from arviz->sbi) (0.7.0)\n",
            "Requirement already satisfied: contourpy>=1.0.1 in /usr/local/lib/python3.10/dist-packages (from matplotlib->sbi) (1.2.1)\n",
            "Requirement already satisfied: cycler>=0.10 in /usr/local/lib/python3.10/dist-packages (from matplotlib->sbi) (0.12.1)\n",
            "Requirement already satisfied: fonttools>=4.22.0 in /usr/local/lib/python3.10/dist-packages (from matplotlib->sbi) (4.53.0)\n",
            "Requirement already satisfied: kiwisolver>=1.0.1 in /usr/local/lib/python3.10/dist-packages (from matplotlib->sbi) (1.4.5)\n",
            "Requirement already satisfied: pyparsing>=2.3.1 in /usr/local/lib/python3.10/dist-packages (from matplotlib->sbi) (3.1.2)\n",
            "Requirement already satisfied: python-dateutil>=2.7 in /usr/local/lib/python3.10/dist-packages (from matplotlib->sbi) (2.8.2)\n",
            "Requirement already satisfied: threadpoolctl>=2.0.0 in /usr/local/lib/python3.10/dist-packages (from scikit-learn->sbi) (3.5.0)\n",
            "Requirement already satisfied: absl-py>=0.4 in /usr/local/lib/python3.10/dist-packages (from tensorboard->sbi) (1.4.0)\n",
            "Requirement already satisfied: grpcio>=1.48.2 in /usr/local/lib/python3.10/dist-packages (from tensorboard->sbi) (1.64.1)\n",
            "Requirement already satisfied: google-auth<3,>=1.6.3 in /usr/local/lib/python3.10/dist-packages (from tensorboard->sbi) (2.27.0)\n",
            "Requirement already satisfied: google-auth-oauthlib<2,>=0.5 in /usr/local/lib/python3.10/dist-packages (from tensorboard->sbi) (1.2.0)\n",
            "Requirement already satisfied: markdown>=2.6.8 in /usr/local/lib/python3.10/dist-packages (from tensorboard->sbi) (3.6)\n",
            "Requirement already satisfied: protobuf!=4.24.0,>=3.19.6 in /usr/local/lib/python3.10/dist-packages (from tensorboard->sbi) (3.20.3)\n",
            "Requirement already satisfied: requests<3,>=2.21.0 in /usr/local/lib/python3.10/dist-packages (from tensorboard->sbi) (2.31.0)\n",
            "Requirement already satisfied: six>1.9 in /usr/local/lib/python3.10/dist-packages (from tensorboard->sbi) (1.16.0)\n",
            "Requirement already satisfied: tensorboard-data-server<0.8.0,>=0.7.0 in /usr/local/lib/python3.10/dist-packages (from tensorboard->sbi) (0.7.2)\n",
            "Requirement already satisfied: werkzeug>=1.0.1 in /usr/local/lib/python3.10/dist-packages (from tensorboard->sbi) (3.0.3)\n",
            "Requirement already satisfied: cachetools<6.0,>=2.0.0 in /usr/local/lib/python3.10/dist-packages (from google-auth<3,>=1.6.3->tensorboard->sbi) (5.3.3)\n",
            "Requirement already satisfied: pyasn1-modules>=0.2.1 in /usr/local/lib/python3.10/dist-packages (from google-auth<3,>=1.6.3->tensorboard->sbi) (0.4.0)\n",
            "Requirement already satisfied: rsa<5,>=3.1.4 in /usr/local/lib/python3.10/dist-packages (from google-auth<3,>=1.6.3->tensorboard->sbi) (4.9)\n",
            "Requirement already satisfied: requests-oauthlib>=0.7.0 in /usr/local/lib/python3.10/dist-packages (from google-auth-oauthlib<2,>=0.5->tensorboard->sbi) (1.3.1)\n",
            "Requirement already satisfied: h5py in /usr/local/lib/python3.10/dist-packages (from h5netcdf>=1.0.2->arviz->sbi) (3.9.0)\n",
            "Requirement already satisfied: pytz>=2020.1 in /usr/local/lib/python3.10/dist-packages (from pandas>=1.3.0->arviz->sbi) (2023.4)\n",
            "Requirement already satisfied: tzdata>=2022.1 in /usr/local/lib/python3.10/dist-packages (from pandas>=1.3.0->arviz->sbi) (2024.1)\n",
            "Requirement already satisfied: charset-normalizer<4,>=2 in /usr/local/lib/python3.10/dist-packages (from requests<3,>=2.21.0->tensorboard->sbi) (3.3.2)\n",
            "Requirement already satisfied: idna<4,>=2.5 in /usr/local/lib/python3.10/dist-packages (from requests<3,>=2.21.0->tensorboard->sbi) (3.7)\n",
            "Requirement already satisfied: urllib3<3,>=1.21.1 in /usr/local/lib/python3.10/dist-packages (from requests<3,>=2.21.0->tensorboard->sbi) (2.0.7)\n",
            "Requirement already satisfied: certifi>=2017.4.17 in /usr/local/lib/python3.10/dist-packages (from requests<3,>=2.21.0->tensorboard->sbi) (2024.6.2)\n",
            "Requirement already satisfied: MarkupSafe>=2.1.1 in /usr/local/lib/python3.10/dist-packages (from werkzeug>=1.0.1->tensorboard->sbi) (2.1.5)\n",
            "Requirement already satisfied: mpmath<1.4.0,>=1.1.0 in /usr/local/lib/python3.10/dist-packages (from sympy->torch>=1.8.0->sbi) (1.3.0)\n",
            "Requirement already satisfied: pyasn1<0.7.0,>=0.4.6 in /usr/local/lib/python3.10/dist-packages (from pyasn1-modules>=0.2.1->google-auth<3,>=1.6.3->tensorboard->sbi) (0.6.0)\n",
            "Requirement already satisfied: oauthlib>=3.0.0 in /usr/local/lib/python3.10/dist-packages (from requests-oauthlib>=0.7.0->google-auth-oauthlib<2,>=0.5->tensorboard->sbi) (3.2.2)\n",
            "Building wheels for collected packages: nflows\n",
            "  Building wheel for nflows (setup.py) ... \u001b[?25l\u001b[?25hdone\n",
            "  Created wheel for nflows: filename=nflows-0.14-py3-none-any.whl size=53654 sha256=34e0d318db899c41a6ba8bde4ca739c9f1ccec7453831413790a3124d241fbf5\n",
            "  Stored in directory: /root/.cache/pip/wheels/ca/8f/ac/c324eb57b461632081812c33b13161878290d0e6fbb8f5a7e2\n",
            "Successfully built nflows\n",
            "Installing collected packages: pyro-api, nvidia-nvtx-cu12, nvidia-nvjitlink-cu12, nvidia-nccl-cu12, nvidia-curand-cu12, nvidia-cufft-cu12, nvidia-cuda-runtime-cu12, nvidia-cuda-nvrtc-cu12, nvidia-cuda-cupti-cu12, nvidia-cublas-cu12, nvidia-cusparse-cu12, nvidia-cudnn-cu12, nvidia-cusolver-cu12, pyro-ppl, nflows, pyknos, sbi\n",
            "Successfully installed nflows-0.14 nvidia-cublas-cu12-12.1.3.1 nvidia-cuda-cupti-cu12-12.1.105 nvidia-cuda-nvrtc-cu12-12.1.105 nvidia-cuda-runtime-cu12-12.1.105 nvidia-cudnn-cu12-8.9.2.26 nvidia-cufft-cu12-11.0.2.54 nvidia-curand-cu12-10.3.2.106 nvidia-cusolver-cu12-11.4.5.107 nvidia-cusparse-cu12-12.1.0.106 nvidia-nccl-cu12-2.20.5 nvidia-nvjitlink-cu12-12.5.40 nvidia-nvtx-cu12-12.1.105 pyknos-0.15.2 pyro-api-0.1.2 pyro-ppl-1.9.1 sbi-0.22.0\n"
          ]
        }
      ],
      "source": [
        "!pip install sbi"
      ]
    },
    {
      "cell_type": "code",
      "source": [
        "import numpy as np\n",
        "import math\n",
        "\n",
        "import seaborn as sns\n",
        "\n",
        "from sklearn.neighbors import kneighbors_graph\n",
        "from sklearn.metrics.pairwise import rbf_kernel"
      ],
      "metadata": {
        "id": "0H_MNf-nUlPw"
      },
      "execution_count": 2,
      "outputs": []
    },
    {
      "cell_type": "code",
      "source": [
        "from sbi import analysis as analysis\n",
        "from sbi import utils as utils\n",
        "from sbi.utils import posterior_nn\n",
        "from sbi.inference import SNPE, simulate_for_sbi\n",
        "from sbi.utils.user_input_checks import (\n",
        "    check_sbi_inputs,\n",
        "    process_prior,\n",
        "    process_simulator,\n",
        ")\n",
        "from sbi.inference import DirectPosterior"
      ],
      "metadata": {
        "id": "KntWJXTxVDPH"
      },
      "execution_count": 3,
      "outputs": []
    },
    {
      "cell_type": "code",
      "source": [
        "import random\n",
        "import numpy as np\n",
        "import torch\n",
        "\n",
        "def set_all_seeds(seed):\n",
        "  random.seed(seed)\n",
        "  np.random.seed(seed)\n",
        "  torch.manual_seed(seed)\n",
        "  torch.cuda.manual_seed(seed)\n",
        "  torch.backends.cudnn.deterministic = True"
      ],
      "metadata": {
        "id": "ADwIwu3cu4tB"
      },
      "execution_count": 4,
      "outputs": []
    },
    {
      "cell_type": "code",
      "source": [
        "from sbi.utils import BoxUniform\n",
        "import torch\n",
        "num_dim = 5\n",
        "prior_theta = BoxUniform(low=-3 * torch.ones(num_dim), high=3 * torch.ones(num_dim))\n",
        "\n",
        "import torch\n",
        "from torch.distributions import MultivariateNormal\n",
        "\n",
        "def simulate_x_given_theta (theta):\n",
        "  m_theta = torch.tensor([theta[0], theta[1]])\n",
        "  s_1 = theta[2]**2; s_2 = theta[3]**2\n",
        "  rho = torch.tanh(theta[4])\n",
        "  S_theta = torch.tensor([[s_1**2, rho*s_1*s_2], [rho*s_1*s_2, s_2**2]])\n",
        "\n",
        "  return MultivariateNormal(m_theta, S_theta).sample()"
      ],
      "metadata": {
        "id": "9o41filtuQCg"
      },
      "execution_count": 5,
      "outputs": []
    },
    {
      "cell_type": "code",
      "source": [
        "prior, num_parameters, prior_returns_numpy = process_prior(prior_theta)\n",
        "\n",
        "simulator = process_simulator(simulate_x_given_theta, prior, prior_returns_numpy)\n",
        "\n",
        "check_sbi_inputs(simulator, prior)"
      ],
      "metadata": {
        "id": "nIkJXZ8SUrUC"
      },
      "execution_count": 6,
      "outputs": []
    },
    {
      "cell_type": "code",
      "source": [
        "def h_mat (X_data, Y_data):\n",
        "\n",
        "    gamma = np.median(np.sum(np.abs(X_data-Y_data)**2,axis=-1))**-1\n",
        "    kernel_XX = rbf_kernel(X_data,X_data, gamma = gamma)\n",
        "    kernel_YY = rbf_kernel(Y_data,Y_data, gamma = gamma)\n",
        "    kernel_XY = rbf_kernel(X_data,Y_data, gamma = gamma)\n",
        "    kernel_YX = rbf_kernel(Y_data,X_data, gamma = gamma)\n",
        "\n",
        "    return kernel_XX + kernel_YY - kernel_XY - kernel_YX\n",
        "\n",
        "def EMMD (knn_matrix, h_mat, n_data, k_n):\n",
        "\n",
        "    h_mat_knn = np.multiply(h_mat, knn_matrix)\n",
        "\n",
        "    emmd_val = np.sum(h_mat_knn)/np.sqrt(n_data * k_n)\n",
        "\n",
        "    return (emmd_val)\n",
        "\n",
        "def samp_var (knn_matrix, h_mat, n_data, k_n):\n",
        "\n",
        "    double_edge = ((knn_matrix + knn_matrix.T) == 2).astype(int)\n",
        "    h2_mat = np.square(h_mat)\n",
        "    h2_mat_term1 = np.multiply(h2_mat, knn_matrix)\n",
        "    h2_mat_term2 = np.multiply(h2_mat, double_edge)\n",
        "    S_squared = (np.sum(h2_mat_term1) + np.sum(h2_mat_term2))/(n_data * k_n)\n",
        "\n",
        "    return np.sqrt(S_squared)\n",
        "\n",
        "def emmd_test_stat (knn_matrix, X_data, Y_data, n_data, k_n):\n",
        "\n",
        "    H_mat = h_mat(X_data, Y_data)\n",
        "    emmd_val = EMMD(knn_matrix, H_mat, n_data, k_n)\n",
        "    S_val = samp_var(knn_matrix, H_mat, n_data, k_n)\n",
        "    return np.absolute(emmd_val/S_val)"
      ],
      "metadata": {
        "id": "-5_ogCiAatzm"
      },
      "execution_count": 7,
      "outputs": []
    },
    {
      "cell_type": "code",
      "source": [
        "from scipy.stats import norm\n",
        "\n",
        "def EMMD_test (theta_test, x_test, posterior, n_test, k_nn, dim_theta):\n",
        "\n",
        "  x_knn = kneighbors_graph(x_test, k_nn, include_self = False).toarray()\n",
        "\n",
        "  posterior_samples = []\n",
        "\n",
        "  for i in range(n_test):\n",
        "    posterior_samples.append(posterior.sample((1,), x = x_test[i],\\\n",
        "                                              show_progress_bars = False))\n",
        "\n",
        "  X = np.array(theta_test)\n",
        "  Y = np.array(posterior_samples).reshape(-1, dim_theta)\n",
        "\n",
        "  test = emmd_test_stat(x_knn, X, Y, n_test, k_nn) > norm.ppf(0.975)\n",
        "\n",
        "  return (test)\n",
        "\n",
        "def test_power (trained_model, n_test, k_nn, dim_theta, n_rep = 100):\n",
        "\n",
        "  test_out_vec = np.zeros(n_rep)\n",
        "\n",
        "  for i in range(n_rep):\n",
        "\n",
        "    theta_test, x_test = simulate_for_sbi(simulator,\\\n",
        "                                        proposal=prior,\\\n",
        "                                        num_simulations=n_test,\\\n",
        "                                        show_progress_bar = False)\n",
        "\n",
        "    test_out_vec[i] = EMMD_test(theta_test, x_test,\\\n",
        "                               trained_model, n_test = n_test,\\\n",
        "                               k_nn = k_nn, dim_theta = dim_theta)\n",
        "    print(i)\n",
        "\n",
        "  return (np.sum(test_out_vec)/n_rep)"
      ],
      "metadata": {
        "id": "-gL5vi3Ma31n"
      },
      "execution_count": 8,
      "outputs": []
    },
    {
      "cell_type": "code",
      "source": [
        "num_sim = [10000, 25000, 50000, 75000, 100000]\n",
        "\n",
        "num_comp = [5, 10, 15, 25]"
      ],
      "metadata": {
        "id": "Hj5S39oGBcTa"
      },
      "execution_count": 13,
      "outputs": []
    },
    {
      "cell_type": "code",
      "source": [
        "from IPython.display import display, clear_output\n",
        "import time\n",
        "\n",
        "\n",
        "mdn_numsim_power = np.zeros((len(num_comp), len(num_sim)))\n",
        "\n",
        "for i in range(len(num_sim)):\n",
        "\n",
        "  set_all_seeds(1)\n",
        "\n",
        "  theta, x = simulate_for_sbi(simulator, proposal=prior, num_simulations=num_sim[i])\n",
        "\n",
        "  for j in range(len(num_comp)):\n",
        "\n",
        "    SNPE_posterior_mdn = posterior_nn(model = \"mdn\", num_components=num_comp[j])\n",
        "    inferer_mdn_SNPE = SNPE(prior=prior, density_estimator=SNPE_posterior_mdn)\n",
        "\n",
        "    density_estimator = inferer_mdn_SNPE.append_simulations(theta, x).train(force_first_round_loss=True)\n",
        "    posterior_mdn_SNPE = inferer_mdn_SNPE.build_posterior(density_estimator)\n",
        "\n",
        "    mdn_numsim_power[j,i] = test_power(posterior_mdn_SNPE, 1000, 50,\\\n",
        "                                       dim_theta = num_dim, n_rep = 100)\n",
        "\n",
        "    clear_output(wait=True)\n",
        "    print (num_sim[i], num_comp[j], mdn_numsim_power[j,i])\n",
        "    time.sleep(5)\n"
      ],
      "metadata": {
        "id": "DBvdmS37Btfp",
        "colab": {
          "base_uri": "https://localhost:8080/",
          "height": 35,
          "referenced_widgets": [
            "5e68b7b224354807ae774429f04fa073",
            "0b62cd2bf2c64a40bf84aa04b4259600",
            "0db248aebd83403eb6ac6753978b1b36",
            "bdc19e1e115e47e59e5fdeedb6094887",
            "359c63edad274bdea6600e84a15fcef7",
            "de45cb028042431b8a46fc90f98fa81b",
            "80c5ab9a632f44f8b4c12e7e2216b2f0",
            "7330b30f2e224631a19def96b40c007b",
            "92bfbf08a34e48f5a724268547c5e822",
            "e0135974162c4e5695b7ef7ae2eefb50",
            "36e430cc48d04abba7abaf7d7ff35ed4"
          ]
        },
        "outputId": "a1dd87a6-aaa8-4b99-ff55-3d0b1b9abcf6"
      },
      "execution_count": 14,
      "outputs": [
        {
          "output_type": "stream",
          "name": "stdout",
          "text": [
            "100000 25 0.25\n"
          ]
        }
      ]
    },
    {
      "cell_type": "code",
      "source": [
        "import pandas as pd\n",
        "mdn_numsim_power_df = pd.DataFrame(mdn_numsim_power)\n",
        "mdn_numsim_power_df.to_csv('mdn_numsim_power.csv')"
      ],
      "metadata": {
        "id": "yl1llj4-CyaP"
      },
      "execution_count": 15,
      "outputs": []
    },
    {
      "cell_type": "code",
      "source": [
        "num_sim = [10000, 25000, 50000, 75000, 100000]\n",
        "\n",
        "num_transforms = [5]"
      ],
      "metadata": {
        "id": "TNqVbFRtJl-V"
      },
      "execution_count": 16,
      "outputs": []
    },
    {
      "cell_type": "code",
      "source": [
        "from IPython.display import display, clear_output\n",
        "import time\n",
        "\n",
        "\n",
        "nsf_numsim_power = np.zeros((len(num_transforms), len(num_sim)))\n",
        "\n",
        "for i in range(len(num_sim)):\n",
        "\n",
        "  set_all_seeds(1)\n",
        "\n",
        "  theta, x = simulate_for_sbi(simulator, proposal=prior, num_simulations=num_sim[i])\n",
        "\n",
        "  for j in range(len(num_transforms)):\n",
        "\n",
        "    SNPE_posterior_nsf = posterior_nn(model = \"nsf\", num_transforms=num_transforms[j])\n",
        "    inferer_nsf_SNPE = SNPE(prior=prior, density_estimator=SNPE_posterior_nsf)\n",
        "\n",
        "    density_estimator = inferer_nsf_SNPE.append_simulations(theta, x).train(force_first_round_loss=True)\n",
        "    posterior_nsf_SNPE = inferer_nsf_SNPE.build_posterior(density_estimator)\n",
        "\n",
        "    nsf_numsim_power[j,i] = test_power(posterior_nsf_SNPE, 1000, 50,\\\n",
        "                                       dim_theta = num_dim, n_rep = 100)\n",
        "\n",
        "    clear_output(wait=True)\n",
        "    print (num_sim[i], num_transforms[j], nsf_numsim_power[j,i])\n",
        "    time.sleep(5)"
      ],
      "metadata": {
        "id": "-2O5olJfJoL6"
      },
      "execution_count": null,
      "outputs": []
    },
    {
      "cell_type": "code",
      "source": [
        "import pandas as pd\n",
        "nsf_numsim_power_df = pd.DataFrame(nsf_numsim_power)\n",
        "nsf_numsim_power_df.to_csv('nsf_numsim_power.csv')"
      ],
      "metadata": {
        "id": "Ro8ZcoyKJv_I"
      },
      "execution_count": null,
      "outputs": []
    }
  ]
}