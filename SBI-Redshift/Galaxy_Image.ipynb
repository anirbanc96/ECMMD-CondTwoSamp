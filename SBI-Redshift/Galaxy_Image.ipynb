{
  "nbformat": 4,
  "nbformat_minor": 0,
  "metadata": {
    "colab": {
      "provenance": []
    },
    "kernelspec": {
      "name": "python3",
      "display_name": "Python 3"
    },
    "language_info": {
      "name": "python"
    }
  },
  "cells": [
    {
      "cell_type": "code",
      "execution_count": 3,
      "metadata": {
        "colab": {
          "base_uri": "https://localhost:8080/"
        },
        "id": "gk3ih_-rLyVj",
        "outputId": "88672ef6-2182-4d2c-875f-113e46d7b001"
      },
      "outputs": [
        {
          "output_type": "stream",
          "name": "stdout",
          "text": [
            "Requirement already satisfied: galsim in /usr/local/lib/python3.10/dist-packages (2.5.3)\n",
            "Requirement already satisfied: setuptools>=38 in /usr/local/lib/python3.10/dist-packages (from galsim) (67.7.2)\n",
            "Requirement already satisfied: pybind11>=2.2 in /usr/local/lib/python3.10/dist-packages (from galsim) (2.12.0)\n",
            "Requirement already satisfied: numpy>=1.17 in /usr/local/lib/python3.10/dist-packages (from galsim) (1.25.2)\n",
            "Requirement already satisfied: astropy in /usr/local/lib/python3.10/dist-packages (from galsim) (5.3.4)\n",
            "Requirement already satisfied: LSSTDESC.Coord in /usr/local/lib/python3.10/dist-packages (from galsim) (1.3.0)\n",
            "Requirement already satisfied: pyerfa>=2.0 in /usr/local/lib/python3.10/dist-packages (from astropy->galsim) (2.0.1.4)\n",
            "Requirement already satisfied: PyYAML>=3.13 in /usr/local/lib/python3.10/dist-packages (from astropy->galsim) (6.0.1)\n",
            "Requirement already satisfied: packaging>=19.0 in /usr/local/lib/python3.10/dist-packages (from astropy->galsim) (24.1)\n",
            "Requirement already satisfied: future in /usr/local/lib/python3.10/dist-packages (from LSSTDESC.Coord->galsim) (0.18.3)\n"
          ]
        }
      ],
      "source": [
        "!pip install galsim\n",
        "\n",
        "import GalSimData as GSD\n",
        "\n",
        "import numpy as np\n",
        "import math\n",
        "import pickle\n",
        "import torch\n",
        "import seaborn as sns\n",
        "from sklearn.neighbors import kneighbors_graph\n",
        "from sklearn.metrics.pairwise import rbf_kernel\n",
        "from scipy.spatial.distance import pdist\n",
        "from scipy.stats import t\n",
        "from scipy.stats import norm\n",
        "import matplotlib.pyplot as plt\n",
        "import time\n",
        "import pandas as pd"
      ]
    },
    {
      "cell_type": "code",
      "source": [
        "GSD.main([-math.pi/4], [0.75], downsampling = 20)\n",
        "\n",
        "with open(\"data.pkl\", 'rb') as handle:\n",
        "  data = pickle.load(handle)"
      ],
      "metadata": {
        "id": "CovIBYUhMhp1"
      },
      "execution_count": 24,
      "outputs": []
    },
    {
      "cell_type": "code",
      "source": [
        "fig, ax = plt.subplots(figsize=(4, 4))  # Adjust figsize for desired size\n",
        "sns.heatmap(data['galaxies_generated'][0], cmap = \"gray\",\\\n",
        "                           cbar = False, ax=ax)\n",
        "\n",
        "# Adjust layout to achieve square aspect ratio\n",
        "plt.axis('off')\n",
        "plt.tight_layout()\n",
        "\n",
        "# Save the figure as a square PDF\n",
        "fig.savefig(\"theta-pi4galaxy.png\", bbox_inches='tight')"
      ],
      "metadata": {
        "colab": {
          "base_uri": "https://localhost:8080/",
          "height": 407
        },
        "id": "-nCkdEFvO4Gg",
        "outputId": "304299a4-cfae-4e6c-d425-93f22bb0785d"
      },
      "execution_count": 25,
      "outputs": [
        {
          "output_type": "display_data",
          "data": {
            "text/plain": [
              "<Figure size 400x400 with 1 Axes>"
            ],
            "image/png": "[encoded data removed]"
          },
          "metadata": {}
        }
      ]
    },
    {
      "cell_type": "code",
      "source": [
        "GSD.main([math.pi/4], [0.75], downsampling = 20)\n",
        "\n",
        "with open(\"data.pkl\", 'rb') as handle:\n",
        "  data = pickle.load(handle)"
      ],
      "metadata": {
        "id": "GVL6oRd0PUE2"
      },
      "execution_count": 26,
      "outputs": []
    },
    {
      "cell_type": "code",
      "source": [
        "fig, ax = plt.subplots(figsize=(4, 4))  # Adjust figsize for desired size\n",
        "sns.heatmap(data['galaxies_generated'][0], cmap = \"gray\",\\\n",
        "                           cbar = False, ax=ax)\n",
        "\n",
        "# Adjust layout to achieve square aspect ratio\n",
        "plt.axis('off')\n",
        "plt.tight_layout()\n",
        "\n",
        "# Save the figure as a square PDF\n",
        "fig.savefig(\"thetapi4galaxy.png\", bbox_inches='tight')"
      ],
      "metadata": {
        "colab": {
          "base_uri": "https://localhost:8080/",
          "height": 407
        },
        "id": "8k5o8FOhPVYZ",
        "outputId": "dd9727ce-ea15-4632-b9ce-29d466e81a93"
      },
      "execution_count": 27,
      "outputs": [
        {
          "output_type": "display_data",
          "data": {
            "text/plain": [
              "<Figure size 400x400 with 1 Axes>"
            ],
            "image/png": "[encoded data removed]"
          },
          "metadata": {}
        }
      ]
    }
  ]
}