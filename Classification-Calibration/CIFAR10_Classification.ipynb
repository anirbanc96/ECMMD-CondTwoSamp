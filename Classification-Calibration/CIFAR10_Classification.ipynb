{
  "cells": [
    {
      "cell_type": "code",
      "execution_count": 22,
      "id": "22a1a4c5",
      "metadata": {
        "id": "22a1a4c5"
      },
      "outputs": [],
      "source": [
        "import numpy as np\n",
        "import tensorflow as tf\n",
        "from tensorflow.keras import datasets, layers, models\n",
        "from tensorflow.keras.utils import to_categorical\n",
        "from sklearn.model_selection import train_test_split\n",
        "import matplotlib.pyplot as plt\n",
        "\n",
        "# Load CIFAR-10 data\n",
        "(train_images, train_labels), (test_images, test_labels) = datasets.cifar10.load_data()\n",
        "\n",
        "# Concatenate original train and test sets\n",
        "all_images = np.concatenate((train_images, test_images), axis=0)\n",
        "all_labels = np.concatenate((train_labels, test_labels), axis=0)\n",
        "\n",
        "tf.keras.utils.set_random_seed(42)\n"
      ]
    },
    {
      "cell_type": "code",
      "execution_count": 23,
      "id": "70a7fabc",
      "metadata": {
        "id": "70a7fabc"
      },
      "outputs": [],
      "source": [
        "# Filter data to include only images of class 3 (cat) and 2 (Bird)\n",
        "filter_mask = np.isin(all_labels, [2, 3]).flatten()\n",
        "filtered_images = all_images[filter_mask]\n",
        "filtered_labels = all_labels[filter_mask] - 2  # Adjust labels to start from 0\n",
        "\n",
        "# Normalize pixel values to be between 0 and 1\n",
        "filtered_images = filtered_images / 255.0\n",
        "\n",
        "# Convert labels to one-hot vectors\n",
        "filtered_labels = to_categorical(filtered_labels)\n",
        "\n",
        "# Shuffle and split the data into train and test sets with a ratio of 3:2\n",
        "train_images, test_images, train_labels, test_labels = train_test_split(\n",
        "    filtered_images, filtered_labels, test_size=2/5, random_state=42, stratify=filtered_labels)\n"
      ]
    },
    {
      "cell_type": "code",
      "execution_count": 24,
      "id": "8abdbce6",
      "metadata": {
        "colab": {
          "base_uri": "https://localhost:8080/"
        },
        "id": "8abdbce6",
        "outputId": "23ca3864-afff-4f6f-a314-a94c58963b9a"
      },
      "outputs": [
        {
          "output_type": "stream",
          "name": "stdout",
          "text": [
            "Epoch 1/20\n",
            "180/180 [==============================] - 12s 50ms/step - loss: 0.6143 - accuracy: 0.6632 - val_loss: 0.5495 - val_accuracy: 0.7194\n",
            "Epoch 2/20\n",
            "180/180 [==============================] - 9s 52ms/step - loss: 0.5188 - accuracy: 0.7490 - val_loss: 0.4966 - val_accuracy: 0.7618\n",
            "Epoch 3/20\n",
            "180/180 [==============================] - 7s 41ms/step - loss: 0.4716 - accuracy: 0.7785 - val_loss: 0.4656 - val_accuracy: 0.7812\n",
            "Epoch 4/20\n",
            "180/180 [==============================] - 11s 62ms/step - loss: 0.4353 - accuracy: 0.8017 - val_loss: 0.4501 - val_accuracy: 0.7979\n",
            "Epoch 5/20\n",
            "180/180 [==============================] - 8s 42ms/step - loss: 0.3933 - accuracy: 0.8280 - val_loss: 0.4423 - val_accuracy: 0.7979\n",
            "Epoch 6/20\n",
            "180/180 [==============================] - 10s 55ms/step - loss: 0.3649 - accuracy: 0.8431 - val_loss: 0.4716 - val_accuracy: 0.7910\n",
            "Epoch 7/20\n",
            "180/180 [==============================] - 10s 55ms/step - loss: 0.3408 - accuracy: 0.8540 - val_loss: 0.4077 - val_accuracy: 0.8201\n",
            "Epoch 8/20\n",
            "180/180 [==============================] - 8s 44ms/step - loss: 0.3129 - accuracy: 0.8675 - val_loss: 0.4174 - val_accuracy: 0.8340\n",
            "Epoch 9/20\n",
            "180/180 [==============================] - 10s 55ms/step - loss: 0.2804 - accuracy: 0.8833 - val_loss: 0.4151 - val_accuracy: 0.8250\n",
            "Epoch 10/20\n",
            "180/180 [==============================] - 10s 55ms/step - loss: 0.2539 - accuracy: 0.8979 - val_loss: 0.4799 - val_accuracy: 0.8160\n",
            "Epoch 11/20\n",
            "180/180 [==============================] - 8s 43ms/step - loss: 0.2280 - accuracy: 0.9099 - val_loss: 0.4467 - val_accuracy: 0.8132\n",
            "Epoch 12/20\n",
            "180/180 [==============================] - 10s 54ms/step - loss: 0.2034 - accuracy: 0.9191 - val_loss: 0.4325 - val_accuracy: 0.8264\n",
            "Epoch 13/20\n",
            "180/180 [==============================] - 8s 47ms/step - loss: 0.1628 - accuracy: 0.9345 - val_loss: 0.5421 - val_accuracy: 0.8132\n",
            "Epoch 14/20\n",
            "180/180 [==============================] - 9s 49ms/step - loss: 0.1529 - accuracy: 0.9378 - val_loss: 0.5188 - val_accuracy: 0.8250\n",
            "Epoch 15/20\n",
            "180/180 [==============================] - 9s 51ms/step - loss: 0.1217 - accuracy: 0.9542 - val_loss: 0.5228 - val_accuracy: 0.8229\n",
            "Epoch 16/20\n",
            "180/180 [==============================] - 8s 42ms/step - loss: 0.0959 - accuracy: 0.9627 - val_loss: 0.6453 - val_accuracy: 0.8139\n",
            "Epoch 17/20\n",
            "180/180 [==============================] - 11s 62ms/step - loss: 0.0878 - accuracy: 0.9675 - val_loss: 0.7304 - val_accuracy: 0.8035\n",
            "Epoch 18/20\n",
            "180/180 [==============================] - 9s 53ms/step - loss: 0.0734 - accuracy: 0.9736 - val_loss: 0.6762 - val_accuracy: 0.8153\n",
            "Epoch 19/20\n",
            "180/180 [==============================] - 8s 42ms/step - loss: 0.0553 - accuracy: 0.9818 - val_loss: 0.7465 - val_accuracy: 0.8257\n",
            "Epoch 20/20\n",
            "180/180 [==============================] - 9s 51ms/step - loss: 0.0499 - accuracy: 0.9806 - val_loss: 0.8290 - val_accuracy: 0.8118\n",
            "150/150 - 2s - loss: 0.8205 - accuracy: 0.8204 - 2s/epoch - 13ms/step\n",
            "\n",
            "Test accuracy: 0.8204166889190674\n"
          ]
        }
      ],
      "source": [
        "# Model architecture\n",
        "model = models.Sequential([\n",
        "    layers.Conv2D(32, (3, 3), activation='relu', input_shape=(32, 32, 3)),\n",
        "    layers.MaxPooling2D((2, 2)),\n",
        "    layers.Conv2D(64, (3, 3), activation='relu'),\n",
        "    layers.MaxPooling2D((2, 2)),\n",
        "    layers.Conv2D(64, (3, 3), activation='relu'),\n",
        "    layers.Flatten(),\n",
        "    layers.Dense(64, activation='relu'),\n",
        "    layers.Dense(2, activation='softmax')  # Adjusted for 2 classes\n",
        "])\n",
        "\n",
        "\n",
        "# Compilation\n",
        "model.compile(optimizer='adam',\n",
        "              loss='categorical_crossentropy',\n",
        "              metrics=['accuracy'])\n",
        "\n",
        "# Training\n",
        "history = model.fit(train_images, train_labels, epochs=20,\n",
        "                    validation_split=0.2)\n",
        "\n",
        "# Evaluation\n",
        "test_loss, test_acc = model.evaluate(test_images, test_labels, verbose=2)\n",
        "print('\\nTest accuracy:', test_acc)\n"
      ]
    },
    {
      "cell_type": "code",
      "execution_count": 25,
      "id": "b4cb7023",
      "metadata": {
        "colab": {
          "base_uri": "https://localhost:8080/"
        },
        "id": "b4cb7023",
        "outputId": "0f3c83fa-a14c-44b7-d6d0-0a9310d2380b"
      },
      "outputs": [
        {
          "output_type": "stream",
          "name": "stdout",
          "text": [
            "150/150 [==============================] - 2s 13ms/step\n"
          ]
        }
      ],
      "source": [
        "# Prediction on Test Data\n",
        "predictions = model.predict(test_images)"
      ]
    },
    {
      "cell_type": "code",
      "execution_count": 26,
      "id": "3a34c94d",
      "metadata": {
        "id": "3a34c94d"
      },
      "outputs": [],
      "source": [
        "np.savetxt(\"predictions_23.csv\", predictions, delimiter=\",\")\n",
        "np.savetxt(\"test_labels_23.csv\", test_labels, delimiter=\",\")"
      ]
    },
    {
      "cell_type": "code",
      "source": [
        "# Filter data to include only images of class 3 (cat) and 2 (Bird)\n",
        "filter_mask = np.isin(all_labels, [3, 4]).flatten()\n",
        "filtered_images = all_images[filter_mask]\n",
        "filtered_labels = all_labels[filter_mask] - 3  # Adjust labels to start from 0\n",
        "\n",
        "# Normalize pixel values to be between 0 and 1\n",
        "filtered_images = filtered_images / 255.0\n",
        "\n",
        "# Convert labels to one-hot vectors\n",
        "filtered_labels = to_categorical(filtered_labels)\n",
        "\n",
        "# Shuffle and split the data into train and test sets with a ratio of 3:2\n",
        "train_images, test_images, train_labels, test_labels = train_test_split(\n",
        "    filtered_images, filtered_labels, test_size=2/5, random_state=42, stratify=filtered_labels)"
      ],
      "metadata": {
        "id": "5dAX-yoqjFjq"
      },
      "id": "5dAX-yoqjFjq",
      "execution_count": 27,
      "outputs": []
    },
    {
      "cell_type": "code",
      "source": [
        "# Model architecture\n",
        "model = models.Sequential([\n",
        "    layers.Conv2D(32, (3, 3), activation='relu', input_shape=(32, 32, 3)),\n",
        "    layers.MaxPooling2D((2, 2)),\n",
        "    layers.Conv2D(64, (3, 3), activation='relu'),\n",
        "    layers.MaxPooling2D((2, 2)),\n",
        "    layers.Conv2D(64, (3, 3), activation='relu'),\n",
        "    layers.Flatten(),\n",
        "    layers.Dense(64, activation='relu'),\n",
        "    layers.Dense(2, activation='softmax')  # Adjusted for 2 classes\n",
        "])\n",
        "\n",
        "\n",
        "# Compilation\n",
        "model.compile(optimizer='adam',\n",
        "              loss='categorical_crossentropy',\n",
        "              metrics=['accuracy'])\n",
        "\n",
        "# Training\n",
        "history = model.fit(train_images, train_labels, epochs=20,\n",
        "                    validation_split=0.2)\n",
        "\n",
        "# Evaluation\n",
        "test_loss, test_acc = model.evaluate(test_images, test_labels, verbose=2)\n",
        "print('\\nTest accuracy:', test_acc)\n"
      ],
      "metadata": {
        "colab": {
          "base_uri": "https://localhost:8080/"
        },
        "id": "dbRgL1fRjJ-v",
        "outputId": "dd659e20-049e-45d6-a7ae-73e247967c22"
      },
      "id": "dbRgL1fRjJ-v",
      "execution_count": 28,
      "outputs": [
        {
          "output_type": "stream",
          "name": "stdout",
          "text": [
            "Epoch 1/20\n",
            "180/180 [==============================] - 11s 54ms/step - loss: 0.5778 - accuracy: 0.6885 - val_loss: 0.5084 - val_accuracy: 0.7465\n",
            "Epoch 2/20\n",
            "180/180 [==============================] - 8s 42ms/step - loss: 0.4453 - accuracy: 0.8012 - val_loss: 0.4204 - val_accuracy: 0.8188\n",
            "Epoch 3/20\n",
            "180/180 [==============================] - 9s 52ms/step - loss: 0.3990 - accuracy: 0.8262 - val_loss: 0.4244 - val_accuracy: 0.8028\n",
            "Epoch 4/20\n",
            "180/180 [==============================] - 9s 50ms/step - loss: 0.3669 - accuracy: 0.8363 - val_loss: 0.3963 - val_accuracy: 0.8278\n",
            "Epoch 5/20\n",
            "180/180 [==============================] - 8s 44ms/step - loss: 0.3328 - accuracy: 0.8521 - val_loss: 0.3741 - val_accuracy: 0.8340\n",
            "Epoch 6/20\n",
            "180/180 [==============================] - 9s 52ms/step - loss: 0.3049 - accuracy: 0.8670 - val_loss: 0.4085 - val_accuracy: 0.8319\n",
            "Epoch 7/20\n",
            "180/180 [==============================] - 9s 49ms/step - loss: 0.2845 - accuracy: 0.8767 - val_loss: 0.3762 - val_accuracy: 0.8479\n",
            "Epoch 8/20\n",
            "180/180 [==============================] - 11s 62ms/step - loss: 0.2595 - accuracy: 0.8898 - val_loss: 0.3847 - val_accuracy: 0.8417\n",
            "Epoch 9/20\n",
            "180/180 [==============================] - 9s 49ms/step - loss: 0.2264 - accuracy: 0.9064 - val_loss: 0.3884 - val_accuracy: 0.8486\n",
            "Epoch 10/20\n",
            "180/180 [==============================] - 8s 46ms/step - loss: 0.2044 - accuracy: 0.9167 - val_loss: 0.3870 - val_accuracy: 0.8417\n",
            "Epoch 11/20\n",
            "180/180 [==============================] - 10s 53ms/step - loss: 0.1773 - accuracy: 0.9304 - val_loss: 0.4438 - val_accuracy: 0.8285\n",
            "Epoch 12/20\n",
            "180/180 [==============================] - 8s 44ms/step - loss: 0.1573 - accuracy: 0.9354 - val_loss: 0.4471 - val_accuracy: 0.8472\n",
            "Epoch 13/20\n",
            "180/180 [==============================] - 10s 53ms/step - loss: 0.1407 - accuracy: 0.9427 - val_loss: 0.4806 - val_accuracy: 0.8243\n",
            "Epoch 14/20\n",
            "180/180 [==============================] - 10s 54ms/step - loss: 0.1238 - accuracy: 0.9498 - val_loss: 0.5328 - val_accuracy: 0.8340\n",
            "Epoch 15/20\n",
            "180/180 [==============================] - 8s 42ms/step - loss: 0.0929 - accuracy: 0.9655 - val_loss: 0.5830 - val_accuracy: 0.8368\n",
            "Epoch 16/20\n",
            "180/180 [==============================] - 10s 54ms/step - loss: 0.0869 - accuracy: 0.9689 - val_loss: 0.5944 - val_accuracy: 0.8438\n",
            "Epoch 17/20\n",
            "180/180 [==============================] - 8s 46ms/step - loss: 0.0759 - accuracy: 0.9722 - val_loss: 0.6021 - val_accuracy: 0.8451\n",
            "Epoch 18/20\n",
            "180/180 [==============================] - 8s 45ms/step - loss: 0.0646 - accuracy: 0.9748 - val_loss: 0.6526 - val_accuracy: 0.8451\n",
            "Epoch 19/20\n",
            "180/180 [==============================] - 9s 52ms/step - loss: 0.0596 - accuracy: 0.9771 - val_loss: 0.6823 - val_accuracy: 0.8424\n",
            "Epoch 20/20\n",
            "180/180 [==============================] - 7s 41ms/step - loss: 0.0387 - accuracy: 0.9861 - val_loss: 0.7737 - val_accuracy: 0.8292\n",
            "150/150 - 3s - loss: 0.7134 - accuracy: 0.8446 - 3s/epoch - 18ms/step\n",
            "\n",
            "Test accuracy: 0.8445833325386047\n"
          ]
        }
      ]
    },
    {
      "cell_type": "code",
      "source": [
        "# Prediction on Test Data\n",
        "predictions = model.predict(test_images)"
      ],
      "metadata": {
        "colab": {
          "base_uri": "https://localhost:8080/"
        },
        "id": "HsOUpAuqjNbW",
        "outputId": "80c621e0-6c08-4fd9-9ca7-0697265c9ae0"
      },
      "id": "HsOUpAuqjNbW",
      "execution_count": 29,
      "outputs": [
        {
          "output_type": "stream",
          "name": "stdout",
          "text": [
            "150/150 [==============================] - 2s 16ms/step\n"
          ]
        }
      ]
    },
    {
      "cell_type": "code",
      "source": [
        "np.savetxt(\"predictions_34.csv\", predictions, delimiter=\",\")\n",
        "np.savetxt(\"test_labels_34.csv\", test_labels, delimiter=\",\")"
      ],
      "metadata": {
        "id": "ojwiN03ojPoC"
      },
      "id": "ojwiN03ojPoC",
      "execution_count": 30,
      "outputs": []
    },
    {
      "cell_type": "code",
      "source": [
        "# Filter data to include only images of class 3 (cat) and 2 (Bird)\n",
        "filter_mask = np.isin(all_labels, [3, 5]).flatten()\n",
        "filtered_images = all_images[filter_mask]\n",
        "filtered_labels = all_labels[filter_mask] - 3  # Adjust labels to start from 0\n",
        "\n",
        "# Adjust labels\n",
        "filtered_labels[filtered_labels == 2] = 1  # Change label 5 (originally) to 1\n",
        "\n",
        "# Normalize pixel values to be between 0 and 1\n",
        "filtered_images = filtered_images / 255.0\n",
        "\n",
        "# Convert labels to one-hot vectors\n",
        "filtered_labels = to_categorical(filtered_labels)\n",
        "\n",
        "# Shuffle and split the data into train and test sets with a ratio of 3:2\n",
        "train_images, test_images, train_labels, test_labels = train_test_split(\n",
        "    filtered_images, filtered_labels, test_size=2/5, random_state=42, stratify=filtered_labels)"
      ],
      "metadata": {
        "id": "xM-Vt5SyjaRG"
      },
      "id": "xM-Vt5SyjaRG",
      "execution_count": 31,
      "outputs": []
    },
    {
      "cell_type": "code",
      "source": [
        "# Model architecture\n",
        "model = models.Sequential([\n",
        "    layers.Conv2D(32, (3, 3), activation='relu', input_shape=(32, 32, 3)),\n",
        "    layers.MaxPooling2D((2, 2)),\n",
        "    layers.Conv2D(64, (3, 3), activation='relu'),\n",
        "    layers.MaxPooling2D((2, 2)),\n",
        "    layers.Conv2D(64, (3, 3), activation='relu'),\n",
        "    layers.Flatten(),\n",
        "    layers.Dense(64, activation='relu'),\n",
        "    layers.Dense(2, activation='softmax')  # Adjusted for 2 classes\n",
        "])\n",
        "\n",
        "\n",
        "# Compilation\n",
        "model.compile(optimizer='adam',\n",
        "              loss='categorical_crossentropy',\n",
        "              metrics=['accuracy'])\n",
        "\n",
        "# Training\n",
        "history = model.fit(train_images, train_labels, epochs=20,\n",
        "                    validation_split=0.2)\n",
        "\n",
        "# Evaluation\n",
        "test_loss, test_acc = model.evaluate(test_images, test_labels, verbose=2)\n",
        "print('\\nTest accuracy:', test_acc)\n"
      ],
      "metadata": {
        "colab": {
          "base_uri": "https://localhost:8080/"
        },
        "id": "-urdlj2zjikC",
        "outputId": "ce792df0-ea0f-44b4-c519-c57f3a8e6450"
      },
      "id": "-urdlj2zjikC",
      "execution_count": 32,
      "outputs": [
        {
          "output_type": "stream",
          "name": "stdout",
          "text": [
            "Epoch 1/20\n",
            "180/180 [==============================] - 9s 45ms/step - loss: 0.6816 - accuracy: 0.5655 - val_loss: 0.6543 - val_accuracy: 0.6118\n",
            "Epoch 2/20\n",
            "180/180 [==============================] - 9s 49ms/step - loss: 0.6426 - accuracy: 0.6271 - val_loss: 0.6142 - val_accuracy: 0.6569\n",
            "Epoch 3/20\n",
            "180/180 [==============================] - 9s 53ms/step - loss: 0.6000 - accuracy: 0.6722 - val_loss: 0.5730 - val_accuracy: 0.6951\n",
            "Epoch 4/20\n",
            "180/180 [==============================] - 7s 41ms/step - loss: 0.5505 - accuracy: 0.7210 - val_loss: 0.5498 - val_accuracy: 0.7188\n",
            "Epoch 5/20\n",
            "180/180 [==============================] - 9s 51ms/step - loss: 0.5163 - accuracy: 0.7411 - val_loss: 0.5541 - val_accuracy: 0.7097\n",
            "Epoch 6/20\n",
            "180/180 [==============================] - 7s 41ms/step - loss: 0.4868 - accuracy: 0.7595 - val_loss: 0.5491 - val_accuracy: 0.7174\n",
            "Epoch 7/20\n",
            "180/180 [==============================] - 9s 52ms/step - loss: 0.4506 - accuracy: 0.7865 - val_loss: 0.5354 - val_accuracy: 0.7264\n",
            "Epoch 8/20\n",
            "180/180 [==============================] - 9s 50ms/step - loss: 0.4155 - accuracy: 0.8094 - val_loss: 0.5495 - val_accuracy: 0.7181\n",
            "Epoch 9/20\n",
            "180/180 [==============================] - 8s 43ms/step - loss: 0.3638 - accuracy: 0.8321 - val_loss: 0.5635 - val_accuracy: 0.7389\n",
            "Epoch 10/20\n",
            "180/180 [==============================] - 9s 53ms/step - loss: 0.3141 - accuracy: 0.8594 - val_loss: 0.6007 - val_accuracy: 0.7292\n",
            "Epoch 11/20\n",
            "180/180 [==============================] - 7s 42ms/step - loss: 0.2665 - accuracy: 0.8868 - val_loss: 0.6101 - val_accuracy: 0.7361\n",
            "Epoch 12/20\n",
            "180/180 [==============================] - 12s 64ms/step - loss: 0.2108 - accuracy: 0.9155 - val_loss: 0.7083 - val_accuracy: 0.7333\n",
            "Epoch 13/20\n",
            "180/180 [==============================] - 9s 50ms/step - loss: 0.1753 - accuracy: 0.9306 - val_loss: 0.7504 - val_accuracy: 0.7424\n",
            "Epoch 14/20\n",
            "180/180 [==============================] - 8s 42ms/step - loss: 0.1391 - accuracy: 0.9486 - val_loss: 0.8997 - val_accuracy: 0.7250\n",
            "Epoch 15/20\n",
            "180/180 [==============================] - 9s 52ms/step - loss: 0.0950 - accuracy: 0.9641 - val_loss: 0.9782 - val_accuracy: 0.7299\n",
            "Epoch 16/20\n",
            "180/180 [==============================] - 8s 42ms/step - loss: 0.0742 - accuracy: 0.9715 - val_loss: 1.0796 - val_accuracy: 0.7382\n",
            "Epoch 17/20\n",
            "180/180 [==============================] - 10s 54ms/step - loss: 0.0780 - accuracy: 0.9689 - val_loss: 1.1565 - val_accuracy: 0.7201\n",
            "Epoch 18/20\n",
            "180/180 [==============================] - 10s 55ms/step - loss: 0.0571 - accuracy: 0.9783 - val_loss: 1.2276 - val_accuracy: 0.7326\n",
            "Epoch 19/20\n",
            "180/180 [==============================] - 7s 41ms/step - loss: 0.0425 - accuracy: 0.9837 - val_loss: 1.2545 - val_accuracy: 0.7306\n",
            "Epoch 20/20\n",
            "180/180 [==============================] - 9s 51ms/step - loss: 0.0485 - accuracy: 0.9835 - val_loss: 1.3889 - val_accuracy: 0.7375\n",
            "150/150 - 2s - loss: 1.4593 - accuracy: 0.7192 - 2s/epoch - 11ms/step\n",
            "\n",
            "Test accuracy: 0.7191666960716248\n"
          ]
        }
      ]
    },
    {
      "cell_type": "code",
      "source": [
        "# Prediction on Test Data\n",
        "predictions = model.predict(test_images)"
      ],
      "metadata": {
        "colab": {
          "base_uri": "https://localhost:8080/"
        },
        "id": "cLlgtFidjkK5",
        "outputId": "075c7e65-611f-4e7c-86c5-b71f25e1aa68"
      },
      "id": "cLlgtFidjkK5",
      "execution_count": 33,
      "outputs": [
        {
          "output_type": "stream",
          "name": "stdout",
          "text": [
            "150/150 [==============================] - 2s 15ms/step\n"
          ]
        }
      ]
    },
    {
      "cell_type": "code",
      "source": [
        "np.savetxt(\"predictions_35.csv\", predictions, delimiter=\",\")\n",
        "np.savetxt(\"test_labels_35.csv\", test_labels, delimiter=\",\")"
      ],
      "metadata": {
        "id": "RPGkXE35jmC2"
      },
      "id": "RPGkXE35jmC2",
      "execution_count": 34,
      "outputs": []
    },
    {
      "cell_type": "code",
      "source": [
        "# Filter data to include only images of class 3 (cat) and 2 (Bird)\n",
        "filter_mask = np.isin(all_labels, [3, 6]).flatten()\n",
        "filtered_images = all_images[filter_mask]\n",
        "filtered_labels = all_labels[filter_mask] - 3  # Adjust labels to start from 0\n",
        "\n",
        "# Adjust labels\n",
        "filtered_labels[filtered_labels == 3] = 1  # Change label 5 (originally) to 1\n",
        "\n",
        "# Normalize pixel values to be between 0 and 1\n",
        "filtered_images = filtered_images / 255.0\n",
        "\n",
        "# Convert labels to one-hot vectors\n",
        "filtered_labels = to_categorical(filtered_labels)\n",
        "\n",
        "# Shuffle and split the data into train and test sets with a ratio of 3:2\n",
        "train_images, test_images, train_labels, test_labels = train_test_split(\n",
        "    filtered_images, filtered_labels, test_size=2/5, random_state=42, stratify=filtered_labels)"
      ],
      "metadata": {
        "id": "zXeWbKWAjqPS"
      },
      "id": "zXeWbKWAjqPS",
      "execution_count": 35,
      "outputs": []
    },
    {
      "cell_type": "code",
      "source": [
        "# Model architecture\n",
        "model = models.Sequential([\n",
        "    layers.Conv2D(32, (3, 3), activation='relu', input_shape=(32, 32, 3)),\n",
        "    layers.MaxPooling2D((2, 2)),\n",
        "    layers.Conv2D(64, (3, 3), activation='relu'),\n",
        "    layers.MaxPooling2D((2, 2)),\n",
        "    layers.Conv2D(64, (3, 3), activation='relu'),\n",
        "    layers.Flatten(),\n",
        "    layers.Dense(64, activation='relu'),\n",
        "    layers.Dense(2, activation='softmax')  # Adjusted for 2 classes\n",
        "])\n",
        "\n",
        "\n",
        "# Compilation\n",
        "model.compile(optimizer='adam',\n",
        "              loss='categorical_crossentropy',\n",
        "              metrics=['accuracy'])\n",
        "\n",
        "# Training\n",
        "history = model.fit(train_images, train_labels, epochs=20,\n",
        "                    validation_split=0.2)\n",
        "\n",
        "# Evaluation\n",
        "test_loss, test_acc = model.evaluate(test_images, test_labels, verbose=2)\n",
        "print('\\nTest accuracy:', test_acc)\n"
      ],
      "metadata": {
        "colab": {
          "base_uri": "https://localhost:8080/"
        },
        "id": "u1fF1qVsjsbb",
        "outputId": "6ccd1881-5d05-4adf-b5f2-6b85eeec5d0e"
      },
      "id": "u1fF1qVsjsbb",
      "execution_count": 36,
      "outputs": [
        {
          "output_type": "stream",
          "name": "stdout",
          "text": [
            "Epoch 1/20\n",
            "180/180 [==============================] - 10s 49ms/step - loss: 0.5633 - accuracy: 0.7076 - val_loss: 0.4740 - val_accuracy: 0.7917\n",
            "Epoch 2/20\n",
            "180/180 [==============================] - 10s 56ms/step - loss: 0.4308 - accuracy: 0.8010 - val_loss: 0.7055 - val_accuracy: 0.6833\n",
            "Epoch 3/20\n",
            "180/180 [==============================] - 9s 47ms/step - loss: 0.3954 - accuracy: 0.8205 - val_loss: 0.3889 - val_accuracy: 0.8160\n",
            "Epoch 4/20\n",
            "180/180 [==============================] - 8s 44ms/step - loss: 0.3607 - accuracy: 0.8391 - val_loss: 0.3900 - val_accuracy: 0.8194\n",
            "Epoch 5/20\n",
            "180/180 [==============================] - 9s 52ms/step - loss: 0.3349 - accuracy: 0.8566 - val_loss: 0.3870 - val_accuracy: 0.8257\n",
            "Epoch 6/20\n",
            "180/180 [==============================] - 8s 43ms/step - loss: 0.3053 - accuracy: 0.8639 - val_loss: 0.3438 - val_accuracy: 0.8458\n",
            "Epoch 7/20\n",
            "180/180 [==============================] - 10s 53ms/step - loss: 0.2693 - accuracy: 0.8911 - val_loss: 0.3422 - val_accuracy: 0.8590\n",
            "Epoch 8/20\n",
            "180/180 [==============================] - 9s 50ms/step - loss: 0.2402 - accuracy: 0.8993 - val_loss: 0.3295 - val_accuracy: 0.8639\n",
            "Epoch 9/20\n",
            "180/180 [==============================] - 8s 45ms/step - loss: 0.2393 - accuracy: 0.9009 - val_loss: 0.3955 - val_accuracy: 0.8201\n",
            "Epoch 10/20\n",
            "180/180 [==============================] - 9s 52ms/step - loss: 0.1974 - accuracy: 0.9196 - val_loss: 0.3312 - val_accuracy: 0.8681\n",
            "Epoch 11/20\n",
            "180/180 [==============================] - 8s 42ms/step - loss: 0.1845 - accuracy: 0.9269 - val_loss: 0.3489 - val_accuracy: 0.8646\n",
            "Epoch 12/20\n",
            "180/180 [==============================] - 9s 52ms/step - loss: 0.1467 - accuracy: 0.9444 - val_loss: 0.3609 - val_accuracy: 0.8611\n",
            "Epoch 13/20\n",
            "180/180 [==============================] - 9s 49ms/step - loss: 0.1314 - accuracy: 0.9500 - val_loss: 0.3763 - val_accuracy: 0.8625\n",
            "Epoch 14/20\n",
            "180/180 [==============================] - 8s 42ms/step - loss: 0.1060 - accuracy: 0.9594 - val_loss: 0.4704 - val_accuracy: 0.8569\n",
            "Epoch 15/20\n",
            "180/180 [==============================] - 11s 62ms/step - loss: 0.0856 - accuracy: 0.9698 - val_loss: 0.4148 - val_accuracy: 0.8694\n",
            "Epoch 16/20\n",
            "180/180 [==============================] - 8s 42ms/step - loss: 0.0813 - accuracy: 0.9682 - val_loss: 0.4416 - val_accuracy: 0.8646\n",
            "Epoch 17/20\n",
            "180/180 [==============================] - 9s 49ms/step - loss: 0.0631 - accuracy: 0.9788 - val_loss: 0.4823 - val_accuracy: 0.8521\n",
            "Epoch 18/20\n",
            "180/180 [==============================] - 10s 55ms/step - loss: 0.0723 - accuracy: 0.9734 - val_loss: 0.4950 - val_accuracy: 0.8715\n",
            "Epoch 19/20\n",
            "180/180 [==============================] - 8s 43ms/step - loss: 0.0491 - accuracy: 0.9844 - val_loss: 0.5405 - val_accuracy: 0.8639\n",
            "Epoch 20/20\n",
            "180/180 [==============================] - 10s 53ms/step - loss: 0.0442 - accuracy: 0.9845 - val_loss: 0.5858 - val_accuracy: 0.8514\n",
            "150/150 - 2s - loss: 0.5502 - accuracy: 0.8646 - 2s/epoch - 11ms/step\n",
            "\n",
            "Test accuracy: 0.8645833134651184\n"
          ]
        }
      ]
    },
    {
      "cell_type": "code",
      "source": [
        "# Prediction on Test Data\n",
        "predictions = model.predict(test_images)"
      ],
      "metadata": {
        "colab": {
          "base_uri": "https://localhost:8080/"
        },
        "id": "9jZ02iD4jvI9",
        "outputId": "9f1aa8cc-906a-4be2-f3c0-74bdd43b2fc2"
      },
      "id": "9jZ02iD4jvI9",
      "execution_count": 37,
      "outputs": [
        {
          "output_type": "stream",
          "name": "stdout",
          "text": [
            "150/150 [==============================] - 2s 13ms/step\n"
          ]
        }
      ]
    },
    {
      "cell_type": "code",
      "source": [
        "np.savetxt(\"predictions_36.csv\", predictions, delimiter=\",\")\n",
        "np.savetxt(\"test_labels_36.csv\", test_labels, delimiter=\",\")"
      ],
      "metadata": {
        "id": "WuRNATyRjwxy"
      },
      "id": "WuRNATyRjwxy",
      "execution_count": 38,
      "outputs": []
    },
    {
      "cell_type": "code",
      "source": [
        "# Filter data to include only images of class 3 (cat) and 2 (Bird)\n",
        "filter_mask = np.isin(all_labels, [3, 7]).flatten()\n",
        "filtered_images = all_images[filter_mask]\n",
        "filtered_labels = all_labels[filter_mask] - 3  # Adjust labels to start from 0\n",
        "\n",
        "# Adjust labels\n",
        "filtered_labels[filtered_labels == 4] = 1  # Change label 5 (originally) to 1\n",
        "\n",
        "# Normalize pixel values to be between 0 and 1\n",
        "filtered_images = filtered_images / 255.0\n",
        "\n",
        "# Convert labels to one-hot vectors\n",
        "filtered_labels = to_categorical(filtered_labels)\n",
        "\n",
        "# Shuffle and split the data into train and test sets with a ratio of 3:2\n",
        "train_images, test_images, train_labels, test_labels = train_test_split(\n",
        "    filtered_images, filtered_labels, test_size=2/5, random_state=42, stratify=filtered_labels)"
      ],
      "metadata": {
        "id": "Y71Vt3tNj0bW"
      },
      "id": "Y71Vt3tNj0bW",
      "execution_count": 39,
      "outputs": []
    },
    {
      "cell_type": "code",
      "source": [
        "# Model architecture\n",
        "model = models.Sequential([\n",
        "    layers.Conv2D(32, (3, 3), activation='relu', input_shape=(32, 32, 3)),\n",
        "    layers.MaxPooling2D((2, 2)),\n",
        "    layers.Conv2D(64, (3, 3), activation='relu'),\n",
        "    layers.MaxPooling2D((2, 2)),\n",
        "    layers.Conv2D(64, (3, 3), activation='relu'),\n",
        "    layers.Flatten(),\n",
        "    layers.Dense(64, activation='relu'),\n",
        "    layers.Dense(2, activation='softmax')  # Adjusted for 2 classes\n",
        "])\n",
        "\n",
        "\n",
        "# Compilation\n",
        "model.compile(optimizer='adam',\n",
        "              loss='categorical_crossentropy',\n",
        "              metrics=['accuracy'])\n",
        "\n",
        "# Training\n",
        "history = model.fit(train_images, train_labels, epochs=20,\n",
        "                    validation_split=0.2)\n",
        "\n",
        "# Evaluation\n",
        "test_loss, test_acc = model.evaluate(test_images, test_labels, verbose=2)\n",
        "print('\\nTest accuracy:', test_acc)\n"
      ],
      "metadata": {
        "colab": {
          "base_uri": "https://localhost:8080/"
        },
        "id": "JcqlLiP-j2Wu",
        "outputId": "7d499ece-1c25-4950-cb07-59e75483065d"
      },
      "id": "JcqlLiP-j2Wu",
      "execution_count": 40,
      "outputs": [
        {
          "output_type": "stream",
          "name": "stdout",
          "text": [
            "Epoch 1/20\n",
            "180/180 [==============================] - 10s 49ms/step - loss: 0.5350 - accuracy: 0.7229 - val_loss: 0.4207 - val_accuracy: 0.8083\n",
            "Epoch 2/20\n",
            "180/180 [==============================] - 10s 53ms/step - loss: 0.3928 - accuracy: 0.8271 - val_loss: 0.3598 - val_accuracy: 0.8465\n",
            "Epoch 3/20\n",
            "180/180 [==============================] - 8s 43ms/step - loss: 0.3390 - accuracy: 0.8524 - val_loss: 0.3379 - val_accuracy: 0.8472\n",
            "Epoch 4/20\n",
            "180/180 [==============================] - 10s 57ms/step - loss: 0.3046 - accuracy: 0.8634 - val_loss: 0.3251 - val_accuracy: 0.8639\n",
            "Epoch 5/20\n",
            "180/180 [==============================] - 11s 60ms/step - loss: 0.2637 - accuracy: 0.8872 - val_loss: 0.3005 - val_accuracy: 0.8653\n",
            "Epoch 6/20\n",
            "180/180 [==============================] - 8s 46ms/step - loss: 0.2430 - accuracy: 0.8976 - val_loss: 0.3679 - val_accuracy: 0.8354\n",
            "Epoch 7/20\n",
            "180/180 [==============================] - 9s 52ms/step - loss: 0.2133 - accuracy: 0.9102 - val_loss: 0.2791 - val_accuracy: 0.8771\n",
            "Epoch 8/20\n",
            "180/180 [==============================] - 8s 47ms/step - loss: 0.1946 - accuracy: 0.9198 - val_loss: 0.2907 - val_accuracy: 0.8819\n",
            "Epoch 9/20\n",
            "180/180 [==============================] - 8s 46ms/step - loss: 0.1603 - accuracy: 0.9344 - val_loss: 0.3243 - val_accuracy: 0.8771\n",
            "Epoch 10/20\n",
            "180/180 [==============================] - 10s 54ms/step - loss: 0.1447 - accuracy: 0.9434 - val_loss: 0.3270 - val_accuracy: 0.8667\n",
            "Epoch 11/20\n",
            "180/180 [==============================] - 8s 43ms/step - loss: 0.1234 - accuracy: 0.9543 - val_loss: 0.3299 - val_accuracy: 0.8792\n",
            "Epoch 12/20\n",
            "180/180 [==============================] - 10s 54ms/step - loss: 0.0963 - accuracy: 0.9628 - val_loss: 0.4049 - val_accuracy: 0.8771\n",
            "Epoch 13/20\n",
            "180/180 [==============================] - 8s 47ms/step - loss: 0.0963 - accuracy: 0.9620 - val_loss: 0.3654 - val_accuracy: 0.8701\n",
            "Epoch 14/20\n",
            "180/180 [==============================] - 8s 46ms/step - loss: 0.0693 - accuracy: 0.9741 - val_loss: 0.4346 - val_accuracy: 0.8729\n",
            "Epoch 15/20\n",
            "180/180 [==============================] - 10s 53ms/step - loss: 0.0689 - accuracy: 0.9720 - val_loss: 0.4546 - val_accuracy: 0.8611\n",
            "Epoch 16/20\n",
            "180/180 [==============================] - 8s 42ms/step - loss: 0.0435 - accuracy: 0.9858 - val_loss: 0.4622 - val_accuracy: 0.8785\n",
            "Epoch 17/20\n",
            "180/180 [==============================] - 9s 52ms/step - loss: 0.0341 - accuracy: 0.9884 - val_loss: 0.5831 - val_accuracy: 0.8618\n",
            "Epoch 18/20\n",
            "180/180 [==============================] - 9s 50ms/step - loss: 0.0405 - accuracy: 0.9849 - val_loss: 0.5512 - val_accuracy: 0.8806\n",
            "Epoch 19/20\n",
            "180/180 [==============================] - 11s 58ms/step - loss: 0.0399 - accuracy: 0.9856 - val_loss: 0.5447 - val_accuracy: 0.8826\n",
            "Epoch 20/20\n",
            "180/180 [==============================] - 9s 51ms/step - loss: 0.0504 - accuracy: 0.9821 - val_loss: 0.5324 - val_accuracy: 0.8674\n",
            "150/150 - 2s - loss: 0.5587 - accuracy: 0.8679 - 2s/epoch - 12ms/step\n",
            "\n",
            "Test accuracy: 0.8679166436195374\n"
          ]
        }
      ]
    },
    {
      "cell_type": "code",
      "source": [
        "# Prediction on Test Data\n",
        "predictions = model.predict(test_images)"
      ],
      "metadata": {
        "colab": {
          "base_uri": "https://localhost:8080/"
        },
        "id": "SpEmtW7Uj4gG",
        "outputId": "14cac61f-ca7f-4845-b8b0-9ab7c33c1035"
      },
      "id": "SpEmtW7Uj4gG",
      "execution_count": 41,
      "outputs": [
        {
          "output_type": "stream",
          "name": "stdout",
          "text": [
            "150/150 [==============================] - 2s 13ms/step\n"
          ]
        }
      ]
    },
    {
      "cell_type": "code",
      "source": [
        "np.savetxt(\"predictions_37.csv\", predictions, delimiter=\",\")\n",
        "np.savetxt(\"test_labels_37.csv\", test_labels, delimiter=\",\")"
      ],
      "metadata": {
        "id": "m9QfUUVcj6OS"
      },
      "id": "m9QfUUVcj6OS",
      "execution_count": 42,
      "outputs": []
    }
  ],
  "metadata": {
    "kernelspec": {
      "display_name": "Python 3 (ipykernel)",
      "language": "python",
      "name": "python3"
    },
    "language_info": {
      "codemirror_mode": {
        "name": "ipython",
        "version": 3
      },
      "file_extension": ".py",
      "mimetype": "text/x-python",
      "name": "python",
      "nbconvert_exporter": "python",
      "pygments_lexer": "ipython3",
      "version": "3.11.4"
    },
    "colab": {
      "provenance": []
    }
  },
  "nbformat": 4,
  "nbformat_minor": 5
}